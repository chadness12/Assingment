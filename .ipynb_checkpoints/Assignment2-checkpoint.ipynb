{
 "cells": [
  {
   "cell_type": "markdown",
   "metadata": {},
   "source": [
    "## 1) 다음 6 개의 Expression에 대해 Evaluation 결과 값을 출력하고, 해당 결과가 나온 이유에 대해 설명하시오\n",
    "\n",
    "* 1 and 2 and 3 and 4\n",
    "* 1 or 2 or 3 or 4\n",
    "* 1 and 2 or 3 and 4\n",
    "* (1 and 2) or (3 and 4)\n",
    "* 1 or 2 and 3 or 4\n",
    "* (1 or 2) and (3 or 4)"
   ]
  },
  {
   "cell_type": "code",
   "execution_count": 2,
   "metadata": {},
   "outputs": [
    {
     "name": "stdout",
     "output_type": "stream",
     "text": [
      "4\n",
      "1\n",
      "2\n",
      "2\n",
      "1\n",
      "3\n"
     ]
    }
   ],
   "source": [
    "num1 = 1 and 2 and 3 and 4\n",
    "print(num1)\n",
    "num2 = 1 or 2 or 3 or 4\n",
    "print(num2)\n",
    "num3 = 1 and 2 or 3 and 4\n",
    "print(num3)\n",
    "num4 = (1 and 2) or (3 and 4)\n",
    "print(num4)\n",
    "num5 = 1 or 2 and 3 or 4\n",
    "print(num5)\n",
    "num6 = (1 or 2) and (3 or 4)\n",
    "print(num6)"
   ]
  },
  {
   "cell_type": "markdown",
   "metadata": {},
   "source": [
    "### 설명\n",
    "1. and 명령어는 모든 조건이 TRUE 임을 확인해야함으로 1을 확인하고 그 다음인 2를 확인합니다. 이런 식으로 4까지 진행되고 마지막 숫자인 4를 반환합니다. 파이썬에서 1이상의 정수는 참입니다.\n",
    "2. or 명령어는 하나의 조건이 참일시 그 이상으로 조건을 확인하지 않습니다. 그리고 1 이상의 숫자는 파이썬으로 TRUE 임으로 1까지 확인하고 1을 반환하고 끝납니다\n",
    "3. 모든 값이 1이상의 정수 이므로 파이썬에서 참입니다. 1 and 2 까지는 실행되고 2 or 3 에서는 2가 벌써 참이므로 더 이상 실행할 필요가없습니다. 그러므로 2를 반환합니다.\n",
    "4. (1 and 2) or (3 and 4) 에서 (1 and 2) 의 반환값이 2이고 파이썬에서 2 는 참이므로 or을 실행하지않고 2를 반환합니다.\n",
    "5. 1 or 2에서 1이 벌써 참으므로 or 연산자를 실행하지 않고 1을 반환합니다.\n",
    "6. (1 or 2) 에서 2가 반환되고 ( 3 or 4) 에서 3이반환됩니다. and 연산자는 모든 조건이 참임을 확인해야함으로 2 and 3 에서 3이 반환됩니다."
   ]
  },
  {
   "cell_type": "markdown",
   "metadata": {},
   "source": [
    "## 2) 경로에 해당하는 문자열 1개를 입력 받아 그 안에 디렉토리 경로명과 파일명을 분리하여 리스트로 반환하는 함수 div_path(s)를 작성하시오.\n",
    "\n",
    "* 인자로 전달하는 문자열은 경로만 들어간다고 가정한다.\n",
    "* 각 디렉토리와 파일을 구분하는 문자는 '/'로 가정한다.\n",
    "* 반환하는 리스트의 첫번째 원소는 디렉토리이고 두번째 원소는 파일명이다.\n",
    "* 다음과 같은 실행 및 출력 결과가 도출되어야 한다.\n",
    "* div_path('/usr/local/bin/python')\n",
    "* ['/usr/local/bin', 'python']\n",
    "* div_path('/home/chulsoo/test.txt')\n",
    "* ['/home/chulsoo', 'test.txt']\n",
    "* [참고] 리스트(l) 내에 새로운 정수값 (예를 들어 10)을 넣는 방법은 l.append(10) 이다."
   ]
  },
  {
   "cell_type": "code",
   "execution_count": 2,
   "metadata": {},
   "outputs": [
    {
     "name": "stdout",
     "output_type": "stream",
     "text": [
      "['/usr/local/bin', 'python']\n",
      "['/home/chulsoo', 'test.txt']\n"
     ]
    }
   ],
   "source": [
    "def div_path(s):\n",
    "    for i in range (len(s)-1,-1,-1):\n",
    "        if s[i] == '/':\n",
    "            a = i\n",
    "            break\n",
    "    path = s[0:i]\n",
    "    file = s[i+1:]\n",
    "    divide = []\n",
    "    divide.append(path)\n",
    "    divide.append(file)\n",
    "    return  divide\n",
    "\n",
    "location = '/usr/local/bin/python'\n",
    "div = div_path(location)\n",
    "print(div)\n",
    "location = '/home/chulsoo/test.txt'\n",
    "div = div_path(location)\n",
    "print(div)\n",
    "        "
   ]
  },
  {
   "cell_type": "markdown",
   "metadata": {},
   "source": [
    "### 설명\n",
    "* div_path 함수에서 입력받은 문자열의 길이에서 0까지 -1씩 감소하면서 첫 /을 찾습니다. / 을 찾는다면 i를 값을 반환하고 종료합니다. path 에서는 경로의 0 index 부터 색인한 i 값까지 반환 합니다. file 에서는 마지막 / 의 인덱스 값보다 1 큰 값에서 끝까지 입력받습니다. 그 뒤에 divide를 list로 선언하고 path 와 file 추가시켜줍니다. divide를 리턴합니다."
   ]
  },
  {
   "cell_type": "markdown",
   "metadata": {},
   "source": [
    "## 3) 두 개의 리스트를 인자로 받아서 그 두 개의 리스트에 대한 '합집합'을 반환하는 함수 list_union(lista, listb)를 작성하시오.\n",
    "\n",
    "* 인자로 전달하는 리스트 2 개에는 정수값만 들어간다고 가정하자.\n",
    "* 함수 내에서 새로운 리스트를 만들어 그 리스트 내에 인자로 받은 두 리스트의 모든 원소를 넣어 반환한다.\n",
    "* 반환하는 리스트에는 절대로 중복된 원소가 들어 있으면 안된다 (집합의 조건).\n",
    "* 반환하는 리스트는 정렬이 되어 있어야 한다.\n",
    "* 다음과 같은 실행 및 출력 결과가 도출되어야 한다.\n",
    "* list_union([1, 2, 3], [1, 2, 4])\n",
    "* [1, 2, 3, 4]\n",
    "* list_union([-10, -5, 0, -1], [100, 9, 0, 9])\n",
    "* [-10, -5, -1, 0, 9, 100]\n",
    "* list_union([0, 1, 2], [0, 1, 2])\n",
    "* [0, 1, 2]\n",
    "* [참고] 리스트(l) 내에 새로운 정수값 (예를 들어 10)을 넣는 방법은 l.append(10) 이다.\n",
    "* [참고] 임의의 정수값 (x)이 리스트 (l) 내에 존재하는지 판단하는 방법은 x in l 이다."
   ]
  },
  {
   "cell_type": "code",
   "execution_count": 13,
   "metadata": {},
   "outputs": [
    {
     "name": "stdout",
     "output_type": "stream",
     "text": [
      "[1, 2, 3, 4]\n",
      "[-10, -5, -1, 0, 9, 100]\n",
      "[0, 1, 2]\n"
     ]
    }
   ],
   "source": [
    "def list_union(a, b):\n",
    "    set1 = set(a)\n",
    "    set2 = set(b)\n",
    "    union = list(set1|set2)\n",
    "    union.sort()\n",
    "    return union\n",
    "print(list_union([1, 2, 3], [1, 2, 4]))\n",
    "print(list_union([-10, -5, 0, -1], [100, 9, 0, 9]))\n",
    "print(list_union([0, 1, 2], [0, 1, 2]))"
   ]
  },
  {
   "cell_type": "markdown",
   "metadata": {},
   "source": [
    "* 집합 연산을 쉽게 해주는 set 자료형을 사용하였습니다. a 와 b를 각각 set1, set2에 set 자료형으로 바꿔주고 union에 set 자료형의 합집합을 반환하는 |을 사용하고, list형태로 변환하여 저장합니다. 그후 sort()를 사용하여 정렬합니다. return에 union을 반환합니다."
   ]
  },
  {
   "cell_type": "markdown",
   "metadata": {},
   "source": [
    "## 4) 알파벳 찾기"
   ]
  },
  {
   "cell_type": "code",
   "execution_count": 28,
   "metadata": {},
   "outputs": [
    {
     "name": "stdout",
     "output_type": "stream",
     "text": [
      "baekjoon\n",
      "1 0 -1 -1 2 -1 -1 -1 -1 4 3 -1 -1 7 5 -1 -1 -1 -1 -1 -1 -1 -1 -1 -1 -1 "
     ]
    }
   ],
   "source": [
    "str = input()\n",
    "save = []\n",
    "for i in range(26):\n",
    "    save.append(-1)\n",
    "for index in range (len(str)):\n",
    "    alp = 0\n",
    "    for alp in range(26):\n",
    "        if ord(str[index]) == alp + 97:\n",
    "            if save[alp] == -1:\n",
    "                save[alp] = index\n",
    "for i in range(26):\n",
    "    print(save[i], end= ' ')\n",
    "    "
   ]
  },
  {
   "cell_type": "markdown",
   "metadata": {},
   "source": [
    "* str에 문자열을 입력받습니다. list 형 save 를 입력받고 소문자 알파벳의 개수만큼 -1로 초기화 합니다. 그 후 str의 길이만큼 반복하는 반복문에서, ord 함수를 사용하여 알파벳의 아스키코드가 a~z 알파벳의 아스키코드와 같다면 save[alp]에 index값을 반환합니다. 이때 save[alp]가 이미 -1이라면 이를 시행하지 않습니다. 그후 save[]를 모두 출력합니다."
   ]
  },
  {
   "cell_type": "markdown",
   "metadata": {},
   "source": [
    "![txt](./문자열 반복.png)"
   ]
  },
  {
   "cell_type": "markdown",
   "metadata": {},
   "source": [
    "## 5) 문자열 반복"
   ]
  },
  {
   "cell_type": "code",
   "execution_count": 59,
   "metadata": {},
   "outputs": [
    {
     "name": "stdout",
     "output_type": "stream",
     "text": [
      "2\n",
      "3 ABC\n",
      "5 /HTP\n",
      "AAABBBCCC\n",
      "/////HHHHHTTTTTPPPPP\n"
     ]
    }
   ],
   "source": [
    "t = int(input())\n",
    "output =[]\n",
    "for i in range(t):\n",
    "    plus,word = input().split(' ')\n",
    "    plus = int(plus)\n",
    "    result=''\n",
    "    for z in range(len(word)):\n",
    "        result=result+word[z]*plus\n",
    "    output.append(result)\n",
    "    \n",
    "for i in range(t):\n",
    "    print(output[i])"
   ]
  },
  {
   "cell_type": "markdown",
   "metadata": {},
   "source": [
    "* t에 시행할 개수를 입력받습니다. 값저장을위한 list output 을 선언합니다.  값 두개를 공백으로 분리하여 입력받아야하므로 split을 사용하여 입력받습니다. plus는 int형으로 사용하여야 하므로 int로 변경합니다. 문자열 저장을위해 result을 선언합니다. result에 입력받았던 word를 한 문자씩 plus만큼 반복하여 넣어줍니다. 그 후 oupput에 값을 저장합니다.output을 출력합니다."
   ]
  },
  {
   "cell_type": "markdown",
   "metadata": {},
   "source": [
    "![txt](./알파벳 찾기.png)"
   ]
  },
  {
   "cell_type": "markdown",
   "metadata": {},
   "source": [
    "## 6) incremental Project"
   ]
  },
  {
   "cell_type": "code",
   "execution_count": 3,
   "metadata": {
    "scrolled": true
   },
   "outputs": [
    {
     "name": "stdout",
     "output_type": "stream",
     "text": [
      "['컴퓨터공학부', 'Schoolfun', '-', 'Study', 'and', 'Fun', '로그인', '로그인', '아이디', '비밀번호', '로그인', '유지', '브라우저를', '닫더라도', '로그인이', '계속', '유지될', '수', '있습니다.', '로그인', '유지', '기능을', '사용할', '경우', '다음', '접속부터는', '로그인할', '필요가', '없습니다.', '단,', '게임방,', '학교', '등', '공공장소에서', '이용', '시', '개인정보가', '유출될', '수', '있으니', '꼭', '로그아웃을', '해주세요.', 'IT', '교육의', '글로벌', '메카!<br/>한국기술교육대학교', '컴퓨터공학부', 'Close', '소개', '구성원소개', '학사안내', '입학', '학부광장', '자료실', '대학원', '공학교육인증', '학부서비스', 'Registration', 'School', 'of', 'Computer', 'Science', 'and', 'Engineering', 'CK', '(Creative', 'Korea)-I', 'Online', 'Contents', 'for', 'Education', 'Capability', 'Empowerment', 'IT', '교육의', '글로벌', '메카', '한국기술교육대학교', '컴퓨터공학부', '홈페이지에', '오신', '것을<br/>환영합니다!', 'IT', '융합소프트웨어', '인력양성사업', '글로벌', '수준의', 'IT전문인력', '양성', '바로가기', '교육역량강화사업', '컨텐츠', '교육역량강화사업', '온라인', '컨텐츠를', '소개합니다.', '바로가기', '2018-10-19', '14:09', '14:09', '2018-10-17', '13:57', '13:57', '2018-10-16', '15:52', '15:52', '2018-10-16', '09:32', '09:32', '2018-10-08', '17:14', '17:14', '2018-10-19', '20:31', '20:31', '2018-10-07', '14:48', '14:48', '2018-09-28', '09:37', '09:37', '2018-09-13', '11:36', '11:36', '2018-09-10', '19:17', '19:17', '2018-10-04', '14:18', '14:18', '2018-09-27', '13:13', '13:13', '2018-09-18', '15:25', '15:25', '2018-09-03', '07:53', '07:53', '2018-08-29', '09:06', '09:06', '2018-10-19', '14:30', '14:30', '2018-10-19', '10:59', '10:59', '2018-10-19', '10:06', '10:06', '2018-10-19', '09:57', '09:57', '2018-10-19', '09:48', '09:48', '2018-10-19', '18:00', '18:00', '2018-10-19', '16:19', '16:19', '2018-10-19', '16:13', '16:13', '2018-10-19', '15:49', '15:49', '2018-10-19', '14:32', '14:32', '2018-10-19', '22:16', '22:16', '2018-10-19', '22:10', '22:10', '2018-10-19', '22:01', '22:01', '2018-10-19', '22:01', '22:01', '2018-10-19', '21:54', '21:54', 'Back', 'to', 'Top', 'Leading', 'Together', '<span>for</span>', 'Brighter', 'Future', 'Quick', 'Navigation', 'Campus', 'Location', 'Contact', 'CSE', '충청남도', '천안시', '동남구', '병천면', '충절로', '1600<br/>한국기술교육대학교', '컴퓨터공학부', '학과사무실', '<br/>TEL', '(041)', '560', '1460', '~', '1461', '(31253)', '충청남도', '천안시', '동남구', '병천면', '충절로', '1600', '(가전리,', '한국기술교육대학교)', '컴퓨터공학부', '', 'Copyright', '©', '2015.', 'All', 'rights', 'reserved']\n",
      "233\n"
     ]
    }
   ],
   "source": [
    "import requests\n",
    "\n",
    "req = requests.get('http://cse.koreatech.ac.kr')\n",
    "\n",
    "source = req.text\n",
    "\n",
    "\n",
    "source=source.replace(\"\\n\",\"^\")\n",
    "source=source.replace(\"\\t\",\"^\")\n",
    "source=source.replace(\"\\r\",\"^\")\n",
    "word= source.split(\"^\")\n",
    "finalword = []\n",
    "#print(word)\n",
    "count = 0\n",
    "for i in range(len(word)):\n",
    "    save = word[i]\n",
    "    for j in range(len(save)):\n",
    "        if save[j] == '>':\n",
    "            temp1 = j\n",
    "            break\n",
    "    for j in range(len(save)-1,-1,-1):\n",
    "        if save[j] == '<':\n",
    "            temp2 = j\n",
    "            break\n",
    "    save = save[temp1+1:temp2]\n",
    "    if save != ''and save[0]!='<':\n",
    "        a = save.split(' ')\n",
    "        for j in range (len(a)):\n",
    "            finalword.append(a[j])\n",
    "    \n",
    "print(finalword)\n",
    "        \n",
    "\n",
    "\n",
    "print(len(finalword))"
   ]
  },
  {
   "cell_type": "markdown",
   "metadata": {},
   "source": [
    "* source를 줄나눔 단위로 구분하기위해 html의 줄나눔인 \\n, \\t, \\r을 source안에 없는 글자인 ^로 변경한후 word에 split을 사용하여 ^로 구분하여 넣었습니다. html의 단어는 >와 <사이에 있는것을 확인하여 한 줄의 첫번째 >를 발견하면 temp1에 >자리의 index를 반환합니다. 그 후 마지막 <를 확인하면 temp2에 < 자리의 index를 반환합니다. save를 첫 번째 >와 마지막 < 사이의 문자로 변경합니다. 이 작업을 한 후 save가 공백이거나, 처음 시작이 < 로 시작된다면 단어가 아니므로, 예외처리합니다. save가 공백이 아니고, 첫 글자가 <가 아니라면 a에 공백을 기준으로 구분해주고, 마지막으로 finalword에 a값을 모두 넣어줍니다. 마지막으로 finalword를 출력한다면, 모든 단어가 출려되고, finalword 안의 요소 개수를 출력한다면 단어개수가 출력됩니다."
   ]
  },
  {
   "cell_type": "markdown",
   "metadata": {},
   "source": [
    "## 숙제 소감"
   ]
  },
  {
   "cell_type": "markdown",
   "metadata": {},
   "source": [
    "* 3번 문제와 같은 경우 set자료형을 사용해봤습니다. c언어와 달리 |하나 만으로 합집합이 출력 가능하다는 점에서 다시 한번 어째서 파이썬이 데이터를 다루는데 최적화 되어있는지 느꼈습니다. incremental project와 같은 경우 친구와 결과가 달라, 당황했습니다. 어떤 친구는 500개 가량 나왔다고 하고, 저는 233개 밖에 안나왔기때문입니다. 저는 html의 순수텍스트가 >와 <사이에 있다고 생각하기 때문에 제가 맞았다고 생각합니다"
   ]
  }
 ],
 "metadata": {
  "kernelspec": {
   "display_name": "Python 3",
   "language": "python",
   "name": "python3"
  },
  "language_info": {
   "codemirror_mode": {
    "name": "ipython",
    "version": 3
   },
   "file_extension": ".py",
   "mimetype": "text/x-python",
   "name": "python",
   "nbconvert_exporter": "python",
   "pygments_lexer": "ipython3",
   "version": "3.6.5"
  }
 },
 "nbformat": 4,
 "nbformat_minor": 2
}
