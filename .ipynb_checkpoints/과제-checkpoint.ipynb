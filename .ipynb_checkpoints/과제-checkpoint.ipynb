{
 "cells": [
  {
   "cell_type": "markdown",
   "metadata": {},
   "source": [
    "### 1. a=\"Hello Python\" 문자열을 Slicing과 연결 연산자 (+)를 사용하여 \"Python Hello\"로 변경하시오.\n",
    " * [주의] a 변수 자체에 \"Python Hello\" 문자열이 저장되어야 함"
   ]
  },
  {
   "cell_type": "code",
   "execution_count": 10,
   "metadata": {},
   "outputs": [
    {
     "name": "stdout",
     "output_type": "stream",
     "text": [
      "Hello Python\n",
      "Python Hello\n"
     ]
    }
   ],
   "source": [
    "a = \"Hello Python\"\n",
    "print(a)\n",
    "a = a[6:]+\" \"+a[0:5]\n",
    "print(a)"
   ]
  },
  {
   "cell_type": "markdown",
   "metadata": {},
   "source": [
    "변수 a 에 Hello Python을 저장하고 출력합니다.\n",
    "\n",
    "그 후, Slicing을 사용하여 Python + 공백 + Hello를 변수 a에 저장하고 출력합니다."
   ]
  },
  {
   "cell_type": "markdown",
   "metadata": {},
   "source": [
    "### 2. b=\"Hello Python World\" 문자열을 Slicing과 연결 연산자 (+)를 사용하여 \"World Python Hello\"로 변경하시오.\n",
    " * [주의] b 변수 자체에 \"World Python Hello\" 문자열이 저장되어야 함"
   ]
  },
  {
   "cell_type": "code",
   "execution_count": 11,
   "metadata": {},
   "outputs": [
    {
     "name": "stdout",
     "output_type": "stream",
     "text": [
      "Hello Python World\n",
      "World Python Hello\n"
     ]
    }
   ],
   "source": [
    "b=\"Hello Python World\"\n",
    "print(b)\n",
    "b = b[13:] + \" \" + b[6:12] + \" \" + b[0:5]\n",
    "print(b)"
   ]
  },
  {
   "cell_type": "markdown",
   "metadata": {},
   "source": [
    "변수 b에 Hello Python World를 저장하고 출력합니다.\n",
    "\n",
    "그 후, Slicing을 사용하여 World + 공백 + Python + 공백 + Hello를 변수 b에 저장하고 출력합니다."
   ]
  },
  {
   "cell_type": "markdown",
   "metadata": {},
   "source": [
    "### 3. c=\"Hello\"를 \"olleH\"로 변경하시오\n",
    " * [주의] c 변수 자체에 \"olleH\" 문자열이 저장되어야 함"
   ]
  },
  {
   "cell_type": "code",
   "execution_count": 12,
   "metadata": {},
   "outputs": [
    {
     "name": "stdout",
     "output_type": "stream",
     "text": [
      "Hello\n",
      "olleH\n"
     ]
    }
   ],
   "source": [
    "c = \"Hello\"\n",
    "print(c)\n",
    "c = c[::-1]\n",
    "print(c)"
   ]
  },
  {
   "cell_type": "markdown",
   "metadata": {},
   "source": [
    "변수 c에 Hello를 저장하고 출력합니다.\n",
    "\n",
    "그 후, [::-1]을 사용하여 변수 c에 olleH를 저장하고 출력합니다."
   ]
  },
  {
   "cell_type": "markdown",
   "metadata": {},
   "source": [
    "### 4. s=\"python\"에 대해 다음 문제를 풀어보시오.\n",
    " A. s[0], s[0][0], s[0][0][0]은 각각 어떤 값이 나오는지 확인하고 그 이유를 나름대로 설명해 보시오.\n",
    " \n",
    " B. s[-100], s[100]은 값이 나오는지 에러가 나오는지 확인하고 그 결과에 대한 이유를 나름대로 설명해 보시오.\n",
    " \n",
    " C. s[-100, 100]은 값이 나오는지 에러가 나오는지 확인하고 그 결과에 대한 이유를 나름대로 설명해 보시오.\n",
    " \n",
    " D. s[1:-1]의 결과를 확인하고 그 결과에 대한 이유를 정확하게 설명하시오.\n",
    " \n",
    " E. s[3:-3]의 결과를 확인하고 그 결과에 대한 이유를 정확하게 설명하시오."
   ]
  },
  {
   "cell_type": "markdown",
   "metadata": {},
   "source": [
    "#### A번 코드"
   ]
  },
  {
   "cell_type": "code",
   "execution_count": 13,
   "metadata": {},
   "outputs": [
    {
     "name": "stdout",
     "output_type": "stream",
     "text": [
      "P\n",
      "P\n",
      "P\n"
     ]
    }
   ],
   "source": [
    "# A. s[0], s[0][0], s[0][0][0]은 각각 어떤 값이 나오는지 확인하고 그 이유를 나름대로 설명해 보시오. \n",
    "s = \"Python\"\n",
    "print(s[0])\n",
    "print(s[0][0])\n",
    "print(s[0][0][0])"
   ]
  },
  {
   "cell_type": "markdown",
   "metadata": {},
   "source": [
    "#### A번 설명"
   ]
  },
  {
   "cell_type": "markdown",
   "metadata": {},
   "source": [
    "저는 행렬로 생각해봤습니다\n",
    "\n",
    "s[0]이 가르키는 것은 P입니다.\n",
    "\n",
    "s[0][0] 을 이차원 행렬로 생각한다면 s[0][0] 이 가르키는 것 또한 P가 될것입니다.\n",
    "\n",
    "s[0][0][0] 을 삼차원 행렬로 생각한다면 s[0][0][0] 이 가르키는 것 또한 P 일것입니다.\n",
    "\n",
    "결론 적으로 [0]을 s옆에 3개 이상으로 붙인다고 하더라고 결과값은 P라고 생각합니다.\n",
    "\n",
    "아래에서 직접 해보았습니다."
   ]
  },
  {
   "cell_type": "markdown",
   "metadata": {},
   "source": [
    "#### A번 실험"
   ]
  },
  {
   "cell_type": "code",
   "execution_count": 14,
   "metadata": {},
   "outputs": [
    {
     "name": "stdout",
     "output_type": "stream",
     "text": [
      "P\n"
     ]
    }
   ],
   "source": [
    "print(s[0][0][0][0][0])"
   ]
  },
  {
   "cell_type": "markdown",
   "metadata": {},
   "source": [
    "#### B번 코드"
   ]
  },
  {
   "cell_type": "code",
   "execution_count": 15,
   "metadata": {},
   "outputs": [
    {
     "ename": "IndexError",
     "evalue": "string index out of range",
     "output_type": "error",
     "traceback": [
      "\u001b[1;31m---------------------------------------------------------------------------\u001b[0m",
      "\u001b[1;31mIndexError\u001b[0m                                Traceback (most recent call last)",
      "\u001b[1;32m<ipython-input-15-15ce292d109a>\u001b[0m in \u001b[0;36m<module>\u001b[1;34m()\u001b[0m\n\u001b[0;32m      1\u001b[0m \u001b[1;31m#B. s[-100], s[100]은 값이 나오는지 에러가 나오는지 확인하고 그 결과에 대한 이유를 나름대로 설명해 보시오.\u001b[0m\u001b[1;33m\u001b[0m\u001b[1;33m\u001b[0m\u001b[0m\n\u001b[1;32m----> 2\u001b[1;33m \u001b[0mprint\u001b[0m\u001b[1;33m(\u001b[0m\u001b[0ms\u001b[0m\u001b[1;33m[\u001b[0m\u001b[1;33m-\u001b[0m\u001b[1;36m100\u001b[0m\u001b[1;33m]\u001b[0m\u001b[1;33m)\u001b[0m\u001b[1;33m\u001b[0m\u001b[0m\n\u001b[0m\u001b[0;32m      3\u001b[0m \u001b[0mprint\u001b[0m\u001b[1;33m(\u001b[0m\u001b[0ms\u001b[0m\u001b[1;33m[\u001b[0m\u001b[1;36m100\u001b[0m\u001b[1;33m]\u001b[0m\u001b[1;33m)\u001b[0m\u001b[1;33m\u001b[0m\u001b[0m\n",
      "\u001b[1;31mIndexError\u001b[0m: string index out of range"
     ]
    }
   ],
   "source": [
    "#B. s[-100], s[100]은 값이 나오는지 에러가 나오는지 확인하고 그 결과에 대한 이유를 나름대로 설명해 보시오.\n",
    "print(s[-100])\n",
    "print(s[100])"
   ]
  },
  {
   "cell_type": "markdown",
   "metadata": {},
   "source": [
    "#### B번설명\n",
    "index가 범위를 초과했기때문에 오류가 발생했다고 생각합니다"
   ]
  },
  {
   "cell_type": "markdown",
   "metadata": {},
   "source": [
    "#### C번 코드"
   ]
  },
  {
   "cell_type": "code",
   "execution_count": 16,
   "metadata": {},
   "outputs": [
    {
     "ename": "TypeError",
     "evalue": "string indices must be integers",
     "output_type": "error",
     "traceback": [
      "\u001b[1;31m---------------------------------------------------------------------------\u001b[0m",
      "\u001b[1;31mTypeError\u001b[0m                                 Traceback (most recent call last)",
      "\u001b[1;32m<ipython-input-16-223f79166ba8>\u001b[0m in \u001b[0;36m<module>\u001b[1;34m()\u001b[0m\n\u001b[0;32m      1\u001b[0m \u001b[1;31m# C. s[-100, 100]은 값이 나오는지 에러가 나오는지 확인하고 그 결과에 대한 이유를 나름대로 설명해 보시오.\u001b[0m\u001b[1;33m\u001b[0m\u001b[1;33m\u001b[0m\u001b[0m\n\u001b[1;32m----> 2\u001b[1;33m \u001b[0mprint\u001b[0m\u001b[1;33m(\u001b[0m\u001b[0ms\u001b[0m\u001b[1;33m[\u001b[0m\u001b[1;33m-\u001b[0m\u001b[1;36m100\u001b[0m\u001b[1;33m,\u001b[0m\u001b[1;36m100\u001b[0m\u001b[1;33m]\u001b[0m\u001b[1;33m)\u001b[0m\u001b[1;33m\u001b[0m\u001b[0m\n\u001b[0m",
      "\u001b[1;31mTypeError\u001b[0m: string indices must be integers"
     ]
    }
   ],
   "source": [
    "# C. s[-100, 100]은 값이 나오는지 에러가 나오는지 확인하고 그 결과에 대한 이유를 나름대로 설명해 보시오.\n",
    "print(s[-100,100])"
   ]
  },
  {
   "cell_type": "markdown",
   "metadata": {},
   "source": [
    "#### c번 설명"
   ]
  },
  {
   "cell_type": "markdown",
   "metadata": {},
   "source": [
    "s[-100,100] 에서 ,부분이 문제가 되는것 같습니다.\n",
    "\n",
    "교수님이 의도하신게 s[-100,100] 이 아닌 s[-100:100]인 것 으로 생각되므로 아래에서 s[-100:100]으로 한 번 더 해보겠습니다."
   ]
  },
  {
   "cell_type": "markdown",
   "metadata": {},
   "source": [
    "#### C번 수정 코드"
   ]
  },
  {
   "cell_type": "code",
   "execution_count": 17,
   "metadata": {},
   "outputs": [
    {
     "name": "stdout",
     "output_type": "stream",
     "text": [
      "Python\n"
     ]
    }
   ],
   "source": [
    "print(s[-100:100])"
   ]
  },
  {
   "cell_type": "markdown",
   "metadata": {},
   "source": [
    "#### C번 수정 코드 설명"
   ]
  },
  {
   "cell_type": "markdown",
   "metadata": {},
   "source": [
    "파이썬은 범위가 넘어가도 자동으로 최대 범위를 지정해 주기 때문에 이렇게 출력된다고 생각됩니다."
   ]
  },
  {
   "cell_type": "markdown",
   "metadata": {},
   "source": [
    "#### D번 코드"
   ]
  },
  {
   "cell_type": "code",
   "execution_count": 18,
   "metadata": {},
   "outputs": [
    {
     "name": "stdout",
     "output_type": "stream",
     "text": [
      "ytho\n"
     ]
    }
   ],
   "source": [
    "#D. s[1:-1]의 결과를 확인하고 그 결과에 대한 이유를 정확하게 설명하시오.\n",
    "print(s[1:-1])"
   ]
  },
  {
   "cell_type": "markdown",
   "metadata": {},
   "source": [
    "#### D번 설명"
   ]
  },
  {
   "cell_type": "markdown",
   "metadata": {},
   "source": [
    "파이썬 의 string 형은 맨마지막 위치의 인덱스가 -1도 가능합니다.\n",
    "\n",
    "그러므로 Python 에서 y부터 맨마지막 글자 n 바로 전인 o 까지 출력된다고 생각합니다"
   ]
  },
  {
   "cell_type": "markdown",
   "metadata": {},
   "source": [
    "#### E번 코드"
   ]
  },
  {
   "cell_type": "code",
   "execution_count": 19,
   "metadata": {
    "scrolled": true
   },
   "outputs": [
    {
     "name": "stdout",
     "output_type": "stream",
     "text": [
      "\n"
     ]
    }
   ],
   "source": [
    "# E. s[3:-3]의 결과를 확인하고 그 결과에 대한 이유를 정확하게 설명하시오.\n",
    "print(s[3:-3])"
   ]
  },
  {
   "cell_type": "markdown",
   "metadata": {},
   "source": [
    "#### E번 설명"
   ]
  },
  {
   "cell_type": "markdown",
   "metadata": {},
   "source": [
    "s[3]은 h을 가르키고 s[-3]은 h를 가르킵니다\n",
    "\n",
    "s[3:-3]은 s[3]의 위치가 s[-4]보다 뒤에 있음으로 아무것도 출력되지 않을거라고 생각합니다."
   ]
  },
  {
   "cell_type": "markdown",
   "metadata": {},
   "source": [
    "### 5. for문을 활용하여 1부터 100사이의 홀수를 출력하시오."
   ]
  },
  {
   "cell_type": "code",
   "execution_count": 20,
   "metadata": {},
   "outputs": [
    {
     "name": "stdout",
     "output_type": "stream",
     "text": [
      "1 3 5 7 9 11 13 15 17 19 21 23 25 27 29 31 33 35 37 39 41 43 45 47 49 51 53 55 57 59 61 63 65 67 69 71 73 75 77 79 81 83 85 87 89 91 93 95 97 99 "
     ]
    }
   ],
   "source": [
    "for i in range(0,50):\n",
    "    print(2*i+1,end = ' ')"
   ]
  },
  {
   "cell_type": "markdown",
   "metadata": {},
   "source": [
    "i는 0~50 까지 1씩 커지며\n",
    "\n",
    "print 에서 (2 * i) + 1 이 출력하게하여 홀수만 나오게했습니다."
   ]
  },
  {
   "cell_type": "markdown",
   "metadata": {},
   "source": [
    "### 6. while문을 활용하여 1부터 100사이의 짝수의 합을 계산하여 출력하시오."
   ]
  },
  {
   "cell_type": "code",
   "execution_count": 21,
   "metadata": {},
   "outputs": [
    {
     "name": "stdout",
     "output_type": "stream",
     "text": [
      "2 4 6 8 10 12 14 16 18 20 22 24 26 28 30 32 34 36 38 40 42 44 46 48 50 52 54 56 58 60 62 64 66 68 70 72 74 76 78 80 82 84 86 88 90 92 94 96 98 100 "
     ]
    }
   ],
   "source": [
    "j = 2\n",
    "while j<101:\n",
    "    print(j,end = ' ')\n",
    "    j+=2"
   ]
  },
  {
   "cell_type": "markdown",
   "metadata": {},
   "source": [
    "while 은 j가 100이상이 되면 실행되지 않도록 했습니다.\n",
    "\n",
    "j=2에서 부터 2씩 커지며 100까지 반복되게 됩니다."
   ]
  },
  {
   "cell_type": "markdown",
   "metadata": {},
   "source": [
    "### 7. 사용자로 부터 임의의 정수를 입력받고, 해당 숫자를 역순으로 출력하는 프로그램을 작성하시오."
   ]
  },
  {
   "cell_type": "code",
   "execution_count": 22,
   "metadata": {},
   "outputs": [
    {
     "name": "stdout",
     "output_type": "stream",
     "text": [
      "정수를 입력하세요: 3175\n",
      "숫자 역순은 5713 입니다\n"
     ]
    }
   ],
   "source": [
    "num = input('정수를 입력하세요: ')\n",
    "print(\"숫자 역순은 {} 입니다\".format(num[::-1]))"
   ]
  },
  {
   "cell_type": "markdown",
   "metadata": {},
   "source": [
    "num 에 숫자를 입력 받고\n",
    "\n",
    "format 그리고 Slicing을 사용하여 숫자를 역순으로 출력했습니다"
   ]
  },
  {
   "cell_type": "markdown",
   "metadata": {},
   "source": [
    "### 8. 사용자로 부터 정수를 입력받아서 1부터 그 사이에 존재하는 소수 (Prime number)를 출력하는 파이썬 프로그램을 작성하시오."
   ]
  },
  {
   "cell_type": "code",
   "execution_count": 23,
   "metadata": {},
   "outputs": [
    {
     "name": "stdout",
     "output_type": "stream",
     "text": [
      "1보다 큰 정수를 입력하세요: 15\n",
      "2 3 5 7 11 13 "
     ]
    }
   ],
   "source": [
    "n = int(input('1보다 큰 정수를 입력하세요: '))\n",
    "for i in range(2,n):\n",
    "    a = 0\n",
    "    for j in range(2,i):\n",
    "        if i%j == 0:\n",
    "            a+=1\n",
    "    if a==0:\n",
    "        print(i,end = ' ')\n",
    "        \n",
    "    \n",
    "            \n"
   ]
  },
  {
   "cell_type": "markdown",
   "metadata": {},
   "source": [
    "n에 정수를 입력 받고\n",
    "\n",
    "i 반복문에서 소수를 판별하기위한 변수 a를 선언합니다. \n",
    "\n",
    "그 후, j반복문에서 j를 2~i까지 선언하고 만약, 나머지가 0이라면 그 수는 소수가 아니므로 i 반복문에서 if a==0: 에 따라 출력되지 않게됩니다\n",
    "\n",
    "나머지가 0이사이라면 if a==0:에 걸리게 되어 출력되게됩니다."
   ]
  },
  {
   "cell_type": "markdown",
   "metadata": {},
   "source": [
    "### 9. 별찍기"
   ]
  },
  {
   "cell_type": "code",
   "execution_count": 24,
   "metadata": {},
   "outputs": [
    {
     "name": "stdout",
     "output_type": "stream",
     "text": [
      "7\n",
      "*******\n",
      " ******\n",
      "  *****\n",
      "   ****\n",
      "    ***\n",
      "     **\n",
      "      *\n"
     ]
    }
   ],
   "source": [
    "star = int(input())\n",
    "for i in range(0,star):\n",
    "    for j in range(0,i):\n",
    "        print(' ', end = '')\n",
    "    for z in range(0,star-i):\n",
    "        print(\"*\",end='')\n",
    "    print()\n",
    "        "
   ]
  },
  {
   "cell_type": "markdown",
   "metadata": {},
   "source": [
    "j반복문에서는 i의 수만큼 공백을 출력하고\n",
    "z반복문에서는 (입력값)-i 의 수만큼*을 출력합니다. \n",
    "\n",
    "공백이 아래로 갈수록 많아지므로 j는 0~i 만큼 공백을 출력하도록했고\n",
    "\n",
    "별은 아래로 갈수록 적어지므로 (입력값)-1 만큼 출력하도록했습니다.\n",
    "\n",
    "https://www.dropbox.com/s/84poaihu3vrl0m9/%EB%B3%84%EC%B0%8D%EA%B8%B0.png?dl=0"
   ]
  },
  {
   "cell_type": "markdown",
   "metadata": {},
   "source": [
    "![txt](https://previews.dropbox.com/p/thumb/AAMfp3sDXLp3UPnYSbUa7ojsugI3VLo3owMiyPE226ilamhUOOwPxKKkbuVnUSE5X2tJk5afMxAdktWsoTGzIhfTAZixl-gkEy5txfKhgGgiGYYmpE3pmuLh8W5KhHQSPXH4C7dVqBpdcyhNeC-i8kZhqc6EVaGUqJfUG5kYHADhwve1uDSUj1UhqK0LzNyt6LFF5lW50BZad5BZ8SSR82kch8j5Ijke29sga6b-cRsGSw/p.png?size=2048x1536&size_mode=3)"
   ]
  },
  {
   "cell_type": "markdown",
   "metadata": {},
   "source": [
    "### 10. 열개씩 끊어 출력하기"
   ]
  },
  {
   "cell_type": "code",
   "execution_count": 25,
   "metadata": {},
   "outputs": [
    {
     "name": "stdout",
     "output_type": "stream",
     "text": [
      "BaekjoonOnlineJudge\n",
      "BaekjoonOn\n",
      "lineJudge\n"
     ]
    }
   ],
   "source": [
    "cut_ten = input()\n",
    "for i in range (0,len(cut_ten)//10+1):\n",
    "    print(cut_ten[:10])\n",
    "    cut_ten = cut_ten[10:]\n"
   ]
  },
  {
   "cell_type": "markdown",
   "metadata": {},
   "source": [
    "반복문은 Slicing를 사용하여 10개까지 출력하고 cut_ten을 10번째 인덱스에서 마지막까지 다시 저장시킵니다.\n",
    "\n",
    "이를 통해 10개씩 나누어져 출력이 가능하게됩니다.\n",
    "\n",
    "https://www.dropbox.com/s/i0mm6td708nsmy4/%EC%97%B4%EA%B0%9C%EC%94%A9%20%EB%81%8A%EC%96%B4%EC%84%9C%20%EC%B6%9C%EB%A0%A5%ED%95%98%EA%B8%B0.png?dl=0"
   ]
  },
  {
   "cell_type": "markdown",
   "metadata": {},
   "source": [
    "![txt](https://previews.dropbox.com/p/thumb/AAMltzLo5PUZIMCC5YKxuiERkM3KZHk9aIho5aLgo5hZq1sJvlFMvQvjgiYVmKMTVnIZpXbh9IVqV4iJASNfm9RZOUqvqIj3xDn9TE3GMMk40Tfo9P1sOUtY2hFMhn1_mXsoNgJ_umOzBYKq28aCuZv80c4JcAXm7k-KQsMYvXdA3nKROClQibE9jm_eL_3BMHV1SL3f28CrumE2ryzmCrJwu9dFvQPklCtDBkDVm-4mcA/p.png?size=2048x1536&size_mode=3)"
   ]
  },
  {
   "cell_type": "markdown",
   "metadata": {},
   "source": [
    "### 11. 설탕배달"
   ]
  },
  {
   "cell_type": "code",
   "execution_count": 93,
   "metadata": {},
   "outputs": [
    {
     "name": "stdout",
     "output_type": "stream",
     "text": [
      "49\n",
      "11\n"
     ]
    }
   ],
   "source": [
    "sugar = int(input())\n",
    "if sugar%5==0:\n",
    "    print(sugar//5)\n",
    "elif (sugar-4*3)%5==0 and (sugar-4*3)>=0:\n",
    "    print((sugar-4*3)//5+4)\n",
    "elif (sugar-3*3)%5==0 and (sugar-3*3)>=0:\n",
    "    print((sugar-3*3)//5+3)\n",
    "elif (sugar-2*3)%5==0 and (sugar-2*3)>=0:\n",
    "    print((sugar-2*3)//5+2)\n",
    "elif (sugar-1*3)%5==0 and (sugar-1*3)>=0:\n",
    "    print((sugar-1*3)//5+1)\n",
    "else:\n",
    "    if (sugar%3==0):\n",
    "        print(sugar//3)\n",
    "    else:\n",
    "        print(-1)\n",
    "    \n",
    "        \n"
   ]
  },
  {
   "cell_type": "markdown",
   "metadata": {},
   "source": [
    "입력값이 5의 배수일 때는 5로 나눈값을 출력하고\n",
    "\n",
    "입력값에서 3x4=12 를 뺀 값이 5로 나누어지면 입력값에서 12를 빼고 5로 나눈값을 출력하고\n",
    "\n",
    "입력값에서 3x3=9 를 뺀 값이 5로 나누어지면 입력값에서 9를 빼고 5로 나눈값을 출력하고\n",
    "\n",
    "입력값에서 3x2=6 를 뺀 값이 5로 나누어지면 입력값에서 6를 빼고 5로 나눈값을 출력하고\n",
    "\n",
    "입력값에서 3x1=3 를 뺀 값이 5로 나누어지면 입력값에서 3를 빼고 5로 나눈값을 출력합니다\n",
    "\n",
    "3x5이상으로 예외처리를 할 필요가 없는 이유는 3x5 이상으로는 위 4개의 예외로 모두 처리가 가능해지기 때문입니다.\n",
    "\n",
    "마지막으로 else에서 3의배수일때를 처리해주고 그 외에는 -1을 출력합니다\n",
    "\n",
    "\n",
    "https://www.dropbox.com/s/0majulavp4r51im/%EC%84%A4%ED%83%95%EB%B0%B0%EB%8B%AC.png?dl=0"
   ]
  },
  {
   "cell_type": "markdown",
   "metadata": {},
   "source": [
    "![txt](https://previews.dropbox.com/p/thumb/AAPIAm6m8k6ip3k6mOk4htJhyxgy2ok5cYrLXZ_kM94HAfoG1nybPbZojCpkaDlTlvNWMS7XziG1xsadpq7mzSHn6PJm_LJuEhw7jnWZb59eKGxFplGSOeh9riL05_5B7qZ6rQaVkS-wXvnfX9vQz-WAQwpgrNkuA3puYQrAMsOTv4L_HEzXU_2iXVv6F61KaNQK9mNrpWR2IuPFv3qQ1wGlnU9sT4yOH6Ze_3aI2m_QGA/p.png?size=2048x1536&size_mode=3)"
   ]
  },
  {
   "cell_type": "markdown",
   "metadata": {},
   "source": [
    "### 소감\n",
    "\n",
    "저는 c언어와 c++ 언어 두 가지 언어를 해봤습닌다.\n",
    "\n",
    "파이썬이 가벼운 코딩을 하기 좋다는 이야기를 들었을때 직접적으로 와닿지 않았는데 이번 과제를 하며 많이 느꼈습니다.\n",
    "\n",
    "특히 위의 열개씩 끊어 출력하기는 c언어 해서도 풀어 본적이 있었는데, 파이썬으로 하니 문제를 해결하는 시간이 얼마나 단축될 수 있는지 깨달게 해주었습니다.\n",
    "\n",
    "또한 궁금증도 생겼습니다. c언어가 속도가 빠른 언어라고 하고, python은 상대적으로 느리다고 알고 있는데, 이것을 가지고 어떻게 빅데이터를 활용하는지 궁금해졌습니다.\n",
    "\n",
    "속도가 느리다면, 큰 데이터를 처리하는데도 문제가 있다고 생각되는데, 현장에서는 python을 애용한다는 점에서 이상함을 느꼈습니다.\n"
   ]
  },
  {
   "cell_type": "code",
   "execution_count": null,
   "metadata": {},
   "outputs": [],
   "source": []
  }
 ],
 "metadata": {
  "kernelspec": {
   "display_name": "Python 3",
   "language": "python",
   "name": "python3"
  },
  "language_info": {
   "codemirror_mode": {
    "name": "ipython",
    "version": 3
   },
   "file_extension": ".py",
   "mimetype": "text/x-python",
   "name": "python",
   "nbconvert_exporter": "python",
   "pygments_lexer": "ipython3",
   "version": "3.6.5"
  }
 },
 "nbformat": 4,
 "nbformat_minor": 2
}
