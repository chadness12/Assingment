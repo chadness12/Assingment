{
 "cells": [
  {
   "cell_type": "markdown",
   "metadata": {},
   "source": [
    "[1번 문제]\n",
    "\n",
    "파일 s.txt 내의 다음 내용과 함께 아래 문제의 코드를 제시하시오.\n",
    "\n",
    "pig ham\n",
    "\n",
    "cat dog\n",
    "\n",
    "ham bird\n",
    "\n",
    "dog pig\n",
    "\n",
    "           - 1) 파일 s.txt을 읽어서 각 라인에 있는 첫 번째 단어(문자열) 자체들을 기준으로 라인별 정렬후 파일 s1.txt에 그 결과를 기록하는 코드를 작성하시오. 즉, 프로그램 수행 후 s1.txt에 있는 파일 내용은 다음과 같다.\n",
    "\n",
    "cat dog\n",
    "\n",
    "dog pig\n",
    "\n",
    "ham bird\n",
    "\n",
    "pig ham\n",
    "\n",
    "           - 2) 파일 s.txt을 읽어서 각 라인에 있는 두 번째 단어(문자열) 자체들을 기준으로 라인별 정렬후 파일 s2.txt에 그 결과를 기록하는 코드를 작성하시오. 즉, 프로그램 수행 후 s2.txt에 있는 파일 내용은 다음과 같다.\n",
    "\n",
    "ham bird\n",
    "\n",
    "cat dog\n",
    "\n",
    "pig ham\n",
    "\n",
    "dog pig\n",
    "\n",
    "           - 3) 파일 s.txt을 읽어서 각 라인들에 있는 모든 단어들을 순차적으로 다시 나열하되 각 라인에 세 개의 단어들이 오도록 하여 s3.txt에 기록하는 코드를 작성하시오. 즉, 프로그램 수행 후 s3.txt에 있는 파일 내용은 다음과 같다.\n",
    "\n",
    "pig ham cat\n",
    "\n",
    "dog ham bird\n",
    "\n",
    "dog pig"
   ]
  },
  {
   "cell_type": "code",
   "execution_count": 1,
   "metadata": {},
   "outputs": [
    {
     "name": "stdout",
     "output_type": "stream",
     "text": [
      "변경 전 내용\n",
      "\n",
      "pig ham\n",
      "cat dog\n",
      "ham bird\n",
      "dog pig\n",
      "\n",
      "변경 후 내용\n",
      "\n",
      "cat dog\n",
      "dog pig\n",
      "ham bird\n",
      "pig ham\n"
     ]
    }
   ],
   "source": [
    "# 1)\n",
    "import os\n",
    "with open('s.txt','r') as f:\n",
    "    change = []\n",
    "    print(\"변경 전 내용\",end='\\n\\n')\n",
    "    for line in f:\n",
    "        print(line,end='')\n",
    "        change.append(line.rstrip('\\n'))\n",
    "    change.sort()\n",
    "with open('s1.txt','w') as f1:\n",
    "    f1.write('\\n'.join(change))\n",
    "    print()\n",
    "print()\n",
    "with open('s1.txt','r') as f1:\n",
    "    print(\"변경 후 내용\")\n",
    "    print()\n",
    "    print(f1.read())\n"
   ]
  },
  {
   "cell_type": "markdown",
   "metadata": {},
   "source": [
    "파일을 읽기 모드로 열고 하나의 열을 change에 저장한다. 그리고 change를 정렬하고 \n",
    "s1.txt에 chang의 요소를 저장한다."
   ]
  },
  {
   "cell_type": "code",
   "execution_count": 2,
   "metadata": {},
   "outputs": [
    {
     "name": "stdout",
     "output_type": "stream",
     "text": [
      "변경 전 내용\n",
      "\n",
      "pig ham\n",
      "cat dog\n",
      "ham bird\n",
      "dog pig\n",
      "\n",
      "변경 후 내용\n",
      "\n",
      "ham bird\n",
      "cat dog\n",
      "pig ham\n",
      "dog pig\n"
     ]
    }
   ],
   "source": [
    "# 2)\n",
    "with open('s.txt','r') as f:\n",
    "    change = []\n",
    "    print(\"변경 전 내용\",end='\\n\\n')\n",
    "    for line in f:\n",
    "        print(line,end='')\n",
    "        first = line.split(' ')[0]\n",
    "        second = line.split(' ')[1]\n",
    "        change.append([second.rstrip('\\n'),first])\n",
    "        change.sort()\n",
    "    \n",
    "change1 = []\n",
    "for x in range(len(change)):\n",
    "    change1.append(change[x][1]+' '+change[x][0])\n",
    "with open('s2.txt','w') as f1:\n",
    "    f1.write('\\n'.join(change1))\n",
    "    print()\n",
    "print()\n",
    "with open('s2.txt','r') as f1:\n",
    "    print(\"변경 후 내용\")\n",
    "    print()\n",
    "    print(f1.read())\n",
    "    \n"
   ]
  },
  {
   "cell_type": "markdown",
   "metadata": {},
   "source": [
    "파일을 읽기 모드로 열고 한 열의 단어들을 first와 second 나눠 저장한다. 그리고 리스트 change에 second 와 first 순서의 리스트로 저장한다. 그 뒤 change1을 만들고 change1에 change에 저장한 리스트들을 first와 second 순서로 변경하여 str 형으로 저장한다. 그후 s2.txt에 change1의 요소를 저장한다."
   ]
  },
  {
   "cell_type": "code",
   "execution_count": 3,
   "metadata": {},
   "outputs": [
    {
     "name": "stdout",
     "output_type": "stream",
     "text": [
      "변경 전 내용\n",
      "\n",
      "pig ham\n",
      "cat dog\n",
      "ham bird\n",
      "dog pig\n",
      "\n",
      "변경 후 내용\n",
      "\n",
      "pig ham cat\n",
      "dog ham bird\n",
      "dog pig\n"
     ]
    }
   ],
   "source": [
    "# 3)\n",
    "with open('s.txt','r') as f:\n",
    "    change = []\n",
    "    print(\"변경 전 내용\",end='\\n\\n')\n",
    "    for line in f:\n",
    "        print(line,end='')\n",
    "        change.append(line.split()[0])\n",
    "        change.append(line.split()[1])\n",
    "change1 = []\n",
    "a = 0\n",
    "for x in range(len(change)):\n",
    "    if x%3 == 0 and x!=0:\n",
    "        change1.append(change[a] +' ' + change[a+1] + ' ' +change[a+2])\n",
    "        a=x\n",
    "    elif len(change[a:])==1:\n",
    "        change1.append(change[a])\n",
    "    elif len(change[a:])==2:\n",
    "        change1.append(change[a]+' ' +change[a+1])\n",
    "with open('s3.txt','w') as f1:\n",
    "    f1.write('\\n'.join(change1))\n",
    "    print()\n",
    "print()\n",
    "with open('s3.txt','r') as f1:\n",
    "    print(\"변경 후 내용\")\n",
    "    print()\n",
    "    print(f1.read())\n",
    "\n",
    "\n"
   ]
  },
  {
   "cell_type": "markdown",
   "metadata": {},
   "source": [
    "파일을 읽기 모드로 열고 모든 열의 단어들을 change에 저장한다. len(change)만큼 도는 반복문에 x%3이고 x가 0이 아닐때 change의 단어 세 개를 합쳐 change1에 저장한다. len(change)가 3로 꼭 나누어지는것은 아니므로 len(change[a:]) 가 1일 때 change1에 change의 하나 단어만 더하고, len(change[a:]가 2일 때 change1에 change의 두개의 단어를 추가합니다. 그 후 , s3.txt.에 change1의 요소를 저장합니다."
   ]
  },
  {
   "cell_type": "markdown",
   "metadata": {},
   "source": [
    "[2번 문제]\n",
    "다음과 같은 조건들을 참고하여 회원 가입 및 로그인 프로그램을 작성하시오.\n",
    "\n",
    "1) 프로그램 시작 후 다음과 같은 메시지가 출력되어 1, 2, 3 중 하나의 값을 입력 받도록 한다.\n",
    "\n",
    "Welcome to Our Service\n",
    "\n",
    "Sign Up\n",
    "Sign In\n",
    "Quit\n",
    "\n",
    "2) 1을 선택하면 ID, Password, Name, School의 4가지 정보를 입력받아 파일에 저장하는 프로그램을 작성한다.\n",
    "\n",
    "2-1) 입력된 내용은 access.txt 라는 이름의 텍스트 파일 내에 저장된다.\n",
    "\n",
    "2-2) access.txt 파일의 각 라인에는 가입된 회원 각각의 정보가 \"[id]: [password], [name], [school]\" 형태로 저장된다.\n",
    "\n",
    "2-3) 즉, 가입 회원이 10명이면 access.txt 파일 내에 라인 수도 정확히 10개이다.\n",
    "\n",
    "2-4) 암호화 방식은 sha 모듈을 활용한다. sha 모듈 활용 방법은 본 문제의 마지막에 제시된 sha 활용 예를 참고한다.\n",
    "즉, access.txt 파일 내에 password 정보는 암호화 되어 저장되어야 한다.\n",
    "\n",
    "2-5) 회원 정보를 입력 받을 때 id를 입력 받은 직후 access.txt를 확인하여 이미 존재하는 id가 입력되었다면 다음 메시지를 출력하고 id 정보를 다시 입력받는다.\n",
    "Sorry, the entered ID is already used.\n",
    "\n",
    "3) 2를 선택하면 ID, Password의 2가지 정보를 입력받는 프로그램을 작성한다.\n",
    "\n",
    "3-1) 입력된 ID 정보가 access.txt에 존재하지 않으면 다음과 같은 메시지를 출력하고 다시 입력받는다.\n",
    "Sorry, you are not a registered member.\n",
    "\n",
    "3-2) 입력된 ID가 올바르게 존재하지만 Password 정보가 access.txt 파일에 있는 정보와 불일치하면 다음과 같은 메시지를 출력하고 Password를 다시 입력받는다.\n",
    "Sorry, the entered password is not correct.\n",
    "이 때에도 사용자가 입력한 Password 정보와 함께 sha 모듈이 활용되어야 한다.\n",
    "\n",
    "3-3) 입력된 ID와 Password가 모두 올바르면 다음과 같은 메시지를 출력한다.\n",
    "Hello [name]!\n",
    "위 [name]에는 access.txt에 기록되어 있는 name 정보를 출력한다.\n",
    "\n",
    "4) 3을 선택하면 프로그램이 끝난다.\n",
    "[참고] sha 모듈 활용 예"
   ]
  },
  {
   "cell_type": "code",
   "execution_count": 5,
   "metadata": {},
   "outputs": [
    {
     "name": "stdout",
     "output_type": "stream",
     "text": [
      "Welcome to Our Service\n",
      "\n",
      "  1. Sign Up\n",
      "  2. Sign In\n",
      "  3. Quit\n",
      "1\n",
      "아이디: 123\n",
      "패스워드: 123\n",
      "이름123\n",
      "학교123\n"
     ]
    },
    {
     "ename": "AttributeError",
     "evalue": "'str' object has no attribute 'secretpd'",
     "output_type": "error",
     "traceback": [
      "\u001b[1;31m---------------------------------------------------------------------------\u001b[0m",
      "\u001b[1;31mAttributeError\u001b[0m                            Traceback (most recent call last)",
      "\u001b[1;32m<ipython-input-5-4f512f90980f>\u001b[0m in \u001b[0;36m<module>\u001b[1;34m()\u001b[0m\n\u001b[0;32m     25\u001b[0m                         \u001b[0mprint\u001b[0m\u001b[1;33m(\u001b[0m\u001b[1;34m\"Sorry, the entered ID is already used.\"\u001b[0m\u001b[1;33m)\u001b[0m\u001b[1;33m\u001b[0m\u001b[0m\n\u001b[0;32m     26\u001b[0m             \u001b[1;32mwith\u001b[0m \u001b[0mopen\u001b[0m\u001b[1;33m(\u001b[0m\u001b[1;34m\"access.txt\"\u001b[0m\u001b[1;33m,\u001b[0m \u001b[1;34m'w'\u001b[0m\u001b[1;33m)\u001b[0m \u001b[1;32mas\u001b[0m \u001b[0mf\u001b[0m\u001b[1;33m:\u001b[0m\u001b[1;33m\u001b[0m\u001b[0m\n\u001b[1;32m---> 27\u001b[1;33m                 \u001b[0mf\u001b[0m\u001b[1;33m.\u001b[0m\u001b[0mwrite\u001b[0m\u001b[1;33m(\u001b[0m\u001b[1;34m\"{} {} {} {}\"\u001b[0m\u001b[1;33m.\u001b[0m\u001b[0mformat\u001b[0m\u001b[1;33m(\u001b[0m\u001b[0mId\u001b[0m\u001b[1;33m.\u001b[0m \u001b[0msecretpd\u001b[0m\u001b[1;33m,\u001b[0m \u001b[0mname\u001b[0m\u001b[1;33m,\u001b[0m \u001b[0mschool\u001b[0m\u001b[1;33m)\u001b[0m\u001b[1;33m)\u001b[0m\u001b[1;33m\u001b[0m\u001b[0m\n\u001b[0m\u001b[0;32m     28\u001b[0m         \u001b[1;32mbreak\u001b[0m\u001b[1;33m\u001b[0m\u001b[0m\n\u001b[0;32m     29\u001b[0m     \u001b[1;32melif\u001b[0m \u001b[0ma\u001b[0m\u001b[1;33m==\u001b[0m\u001b[1;36m2\u001b[0m\u001b[1;33m:\u001b[0m\u001b[1;33m\u001b[0m\u001b[0m\n",
      "\u001b[1;31mAttributeError\u001b[0m: 'str' object has no attribute 'secretpd'"
     ]
    }
   ],
   "source": [
    "import hashlib\n",
    "\n",
    "a = int(input(\"\"\"Welcome to Our Service\n",
    "\n",
    "  1. Sign Up\n",
    "  2. Sign In\n",
    "  3. Quit\n",
    "\"\"\"))\n",
    "b =[]\n",
    "while(1):\n",
    "    if a == 3:\n",
    "        break\n",
    "    elif a==1:\n",
    "        Id = input(\"아이디: \")\n",
    "        pd = input(\"패스워드: \")\n",
    "        name = input('이름')\n",
    "        school = input('학교')\n",
    "        secretpd = hashlib.sha1(pd.encode()).hexdigest()\n",
    "        if os.path.exists(\"access.txt\"):\n",
    "            with open(\"access.txt\",'r') as f:\n",
    "                for line in f:\n",
    "                    b.append(line.split())\n",
    "                for i in range(len(b)):\n",
    "                    if Id == b[i][0]:\n",
    "                        print(\"Sorry, the entered ID is already used.\")\n",
    "            with open(\"access.txt\", 'w') as f:\n",
    "                f.write(\"{} {} {} {}\".format(Id. secretpd, name, school))\n",
    "        break\n",
    "    elif a==2:\n",
    "        Id = input(\"아이디: \")\n",
    "        pd = input(\"패스워드: \")\n",
    "        secretpd = hashlib.sha1(pd.encode()).hexdigest()\n",
    "        with open(\"access.txt\", \"r\") as f:\n",
    "            for line in f:\n",
    "                b.append(line.split())\n",
    "            for i in len(b):\n",
    "                if Id == b[i][0] and secretpd == b[i][1]:\n",
    "                    print(\"hello {}\".format(b[0][3]))\n",
    "                    break\n",
    "                elif Id != b[i][0] or secretpd != b[i][1]:\n",
    "                    print(\"Sorry, the entered password is not correct.\")\n",
    "        break"
   ]
  },
  {
   "cell_type": "code",
   "execution_count": null,
   "metadata": {},
   "outputs": [],
   "source": [
    "import hashlib\n",
    "\n",
    "a = int(input(\"\"\"Welcome to Our Service\n",
    "\n",
    "  1. Sign Up\n",
    "  2. Sign In\n",
    "  3. Quit\n",
    "\"\"\"))\n",
    "b =[]\n",
    "while(1):\n",
    "    if a == 3:\n",
    "        break\n",
    "    elif a==1:\n",
    "        Id = input(\"아이디: \")\n",
    "        pd = input(\"패스워드: \")\n",
    "        name = input('이름')\n",
    "        school = input('학교')\n",
    "        secretpd = hashlib.sha1(pd.encode()).hexdigest()\n",
    "        if os.path.exists(\"access.txt\"):\n",
    "            with open(\"access.txt\",'r') as f:\n",
    "                for line in f:\n",
    "                    b.append(line.split())\n",
    "                for i in range(len(b)):\n",
    "                    if Id == b[i][0]:\n",
    "                        print(\"Sorry, the entered ID is already used.\")\n",
    "        with open(\"access.txt\", 'w') as f:\n",
    "            f.write(\"{} {} {} {}\".format(Id. secretpd, name, school))\n",
    "        break\n",
    "    elif a==2:\n",
    "        Id = input(\"아이디: \")\n",
    "        pd = input(\"패스워드: \")\n",
    "        secretpd = hashlib.sha1(pd.encode()).hexdigest()\n",
    "        with open(\"access.txt\", \"r\") as f:\n",
    "            for line in f:\n",
    "                b.append(line.split())\n",
    "            for i in len(b):\n",
    "                if Id == b[i][0] and secretpd == b[i][1]:\n",
    "                    print(\"hello {}\".format(b[0][3]))\n",
    "                    break\n",
    "                elif Id != b[i][0] or secretpd != b[i][1]:\n",
    "                    print(\"Sorry, the entered password is not correct.\")\n",
    "        break"
   ]
  },
  {
   "cell_type": "markdown",
   "metadata": {},
   "source": [
    "[3번 문제]\n",
    "range() 함수와 유사한 frange() 함수를 다음 조건을 참고하여 만드시오.\n",
    "\n",
    "1) frange()의 인자 구성은 다음과 같이 range와 동일하지만 각 인수들은 음수를 받지 않는다고 가정한다.\n",
    "range(stop)\n",
    "range(start, stop[, step])\n",
    "\n",
    "2) frange() 함수의 인자에 대한 기본 시작(start) 값은 0.0이고, 기본 단계(step) 값은 0.1이다.\n",
    "3) frange 사용 예\n",
    "3-1) frange(0.5)\n",
    "[0.0, 0.1, 0.2, 0.3, 0.4]\n",
    "3-2) frange(1.0, 2.0)\n",
    "[1.0, 1.1, 1.2, 1.3, 1.4, 1.5, 1.6, 1.7, 1.8, 1.9]\n",
    "3-3) frange(2.2, 4.0, 0.5)\n",
    "[2.2, 2.7, 3.2, 3.7]"
   ]
  },
  {
   "cell_type": "code",
   "execution_count": 5,
   "metadata": {},
   "outputs": [
    {
     "name": "stdout",
     "output_type": "stream",
     "text": [
      "[0.0, 0.1, 0.2, 0.3, 0.4]\n",
      "[1.0, 1.1, 1.2, 1.3, 1.4, 1.5, 1.6, 1.7, 1.8, 1.9]\n",
      "[2.2, 2.7, 3.2, 3.7]\n"
     ]
    }
   ],
   "source": [
    "#3번\n",
    "def frange(start, stop=False, step=0.1):\n",
    "    save = []\n",
    "    if stop == False:\n",
    "        a = 0.0\n",
    "        while a< start:\n",
    "            save.append(round(a,2))\n",
    "            a+=step\n",
    "    else:\n",
    "        while start<stop:\n",
    "            save.append(round(start,2))\n",
    "            start+=step\n",
    "    return save\n",
    "\n",
    "print(frange(0.5))\n",
    "print(frange(1.0, 2.0))\n",
    "print(frange(2.2,4.0,0.5))"
   ]
  },
  {
   "cell_type": "markdown",
   "metadata": {},
   "source": [
    "stop가 입력이 안된경우를 생각해야합니다. range함수에는 숫자만 들어갈 것이므로 stop의 초기치를 False로 처리하면 적절할것이라고 생각햇습니다. 만약 frange에 하나의 인자만 들어갔다면, 처음 입력한 수 전 까지 0에서 0.1까지 커지며 리스트형인 save에 들어갑니다. 만약 두개의 인자 혹은 세개의 인자가 들어갔다면, start에서 stop 전까지 step 만큼 증가하면 값이 리스트 형인 save에 들어갑니다"
   ]
  },
  {
   "cell_type": "markdown",
   "metadata": {},
   "source": [
    "[4번 문제]\n",
    "가변인수를 받는 함수 sum()을 다음과 같은 조건을 참고하여 구현하시오\n",
    "\n",
    "sum() 사용 예\n",
    "\n",
    "sum() \n",
    "\n",
    "0\n",
    "\n",
    "sum(1, 2) \n",
    "\n",
    "3\n",
    "\n",
    "sum(1, 2, 3, 4, 5) \n",
    "\n",
    "15\n",
    "\n",
    "sum(1, 5, 7, 2, -10) \n",
    "\n",
    "5"
   ]
  },
  {
   "cell_type": "code",
   "execution_count": 4,
   "metadata": {},
   "outputs": [
    {
     "name": "stdout",
     "output_type": "stream",
     "text": [
      "0\n",
      "3\n",
      "15\n",
      "5\n"
     ]
    }
   ],
   "source": [
    "#4번\n",
    "def asum(*args):\n",
    "    result = 0\n",
    "    for i in args:\n",
    "        result += i\n",
    "    return result\n",
    "print(asum())\n",
    "print(asum(1,2))\n",
    "print(asum(1,2,3,4,5))\n",
    "print(asum(1,5,7,2,-10))"
   ]
  },
  {
   "cell_type": "markdown",
   "metadata": {},
   "source": [
    "가변인자를 입력 받는 함수 sum에 입력받은 모든값을 더해주는 반복복을 사용하여 result에 모든 합을 저장해 갑니다. 그후 result를 반환합니다"
   ]
  },
  {
   "cell_type": "markdown",
   "metadata": {},
   "source": [
    "[5번 문제]\n",
    "여러 단어로 이루어진 문자열을 입력받아 각 단어의 첫글자로 이루어진 단어를 대문자로 출력하는 myinitial() 함수를 다음 조건을 참고하여 작성하시오.\n",
    "\n",
    "1) 다음에 제시되는 함수들을 모두 이용해야 한다.\n",
    "split\n",
    "map\n",
    "join\n",
    "2) myinitial() 함수 사용 예\n",
    "myinitial(\"as soon as possible\")\n",
    "ASAP"
   ]
  },
  {
   "cell_type": "code",
   "execution_count": 6,
   "metadata": {},
   "outputs": [
    {
     "name": "stdout",
     "output_type": "stream",
     "text": [
      "ASAP\n"
     ]
    }
   ],
   "source": [
    "#5번\n",
    "def upper(c):\n",
    "    return c.upper()\n",
    "def myinitial(string):\n",
    "    aslist = string.split()\n",
    "    for i in range(len(aslist)):\n",
    "        aslist[i] = aslist[i][0]\n",
    "    a= ''\n",
    "    a = a.join(map(upper, aslist))\n",
    "    print(a)\n",
    "myinitial(\"as soon as possible\")"
   ]
  },
  {
   "cell_type": "markdown",
   "metadata": {},
   "source": [
    "안에있는 모든 인자를 대문자로 바꿔주는 upper함수를 선언합니다. myinitial 내 리스트형인 slist에 입력받은 string을 띄어쓰기 단위로 잘라 저장합니다. 그 후 slist 내의 요소 개수만큼 for문을 반복해 slist의 모든 요소의 앞글자만 저장합니다. 그 후 str형 a에 map 함수를 사용하여 slist 내부의 모든 요소를 대문자화 한후 join함수를 사용해 합쳐줍니다."
   ]
  },
  {
   "cell_type": "markdown",
   "metadata": {},
   "source": [
    "[6번 문제]\n",
    "음이 아닌 정수 n를 입력받으면 n! (factorial)을 계산하는 myfact() 함수를 재귀적 함수로 구현하시오.\n",
    "\n",
    "[옵션] 참을 수 있는 정도 만큼의 수행시간을 직접 기다려보면서 n을 늘려보도록 합시다."
   ]
  },
  {
   "cell_type": "code",
   "execution_count": 7,
   "metadata": {},
   "outputs": [
    {
     "name": "stdout",
     "output_type": "stream",
     "text": [
      "1772762374162271298380686246283701914176898010782771336597848082325017098904575074141510235971096328263838089552953645954874962101218947329870666059818732174667864817212417184926745020221731926347042990510249239006275496126912219935766675949902889228531884467083495780334810414855437246686835593619944672966958909132171879147161992849175312113242124545569849726793701619914315067804629070793333554170825019307695063066541960598837872213248562516245847291288868612263545848814960358721929714069415107852635066761431984775487851825765720377881820958554188352489967015812241905289113766345175176496444412640186356075430752531871473064918721290321395863069385727262924749052483058568366443178389465947695295457615002250044819923212353852270843038107633434903043945707977462153566227165196020381539229504059387421244299262242648710778128661886271421144890597541783060319570513238022059770603971350143660422446556499028270609804034959006003275792351937289584537767191066842991401323966204063788569457422171663110102888436349864922580406284907873845068217321716901932109430034385187955320592636809565863886225204873313767002536398727314603394041185091749339466294032844700264499685624535649353463317592351302051871930308037301773046668504642416875445804970381124965474623606022943407184207465866839626657761280014180577360380319708030130977044165963190161263316939250508445997332691193723860515326835788069163543428724841614296360463527641699592409562254598312921988535664297210553068767639095403621524967605522029867192364887123092314208056317378503290304808012653158123676740226800493482943704165445782855186310494818083802889738714237601967293013653477634162159819933295962036201374929233657820861503736999761460625920398517610901479485636117470817071393325189518064332909773452195783471389397118996287710700013252776486756139239500452856428966513529979994905137950048242065295734857095344802884687838052801793609495732567487537489928596453666925729581688912820794831765128821216489986282553523970597039430983993951797282714623039469229742376577748347087965322376925575983229522503145441874229363118348882617635396195909064009556887921181568102851560188330683228557794664393954608865950202220147921420452477403251141552564752789242292599738542167007571189466653802685380982535572250391317907708487387647813117356421170835747465073970253168298623042822832266572884862867151422220114265414610476772586056848086430086198573473673848754994857049818963314898530821920274171367890303673599860828342233726516838488840509733109682275509194551038842038852806945133357694909185041591874001581064964921897304680475710317090019720695288496274132315919239515172145190502999930102686002142798122753206452231312602608992870763152446527271530904510552872799264576303934729970657327696292357418920376094317757616991020583020529341395464399452997460500748092507924514396839380255904599225315130730433586240544079741546174417523532224787524280587139348415204652343006718918196211360076808667296078161558632355162579507103238436718023416944610422546124483057481420460089206884820980205712553931732784602636306716012760569813085041533704633180106458938977191436667506823256126069004593995156573572164126629720764950430914385707855197852395552637404630898652060373403218885701061660832042742734893878041404205206805268936498871089897611611474631617440508103123879975443242510603088109713913963569278088813672789853221126851612471911541008526354555785116936683115286109771590547166851428418820563072095537928759457309786810161427644981652435666792142565243049531763852975868873118050851672136710673042126293272046640458374118105556548376268821988415445534120920575330351162105940817559763369311567277974386351528479779817880256197835578389890488571319685261414324051757061044957147447854075101528472585758044613251986066605801856463951279817049265571401143054094163904028866108668683454104217879361295378525703995850219643919817056780994507338407426174409349655428000305095507152922416238208181694379901607563167340962117673695349689293341021739515847703566693329859192634096740550989451696126019756557025041090817609730924284962610393449876037447360571126489776525826059240197453527355453498504354499576132733199249422275061851651760304173163084015238312503612476983269182072308068572561112534962457399282828036128951158499956543609677063348600657191759370047935866896161566173732503385342358368276899175619624879196757623054820509089065197852716869900881300523978393252605501626329596757426744513276455114300380460496660524216685027543358454001199568967610722188849734076598007160389416832569491637372416733073887521568425290492814720018457560462221672087442993051081338778836718021419474045228934992862375975377816914617287690355938830134428726942296958084225376907338865577457848656177205202236143396901162452396826227008115566032789027004907722864314247858921272716976742724363701262985756904549461763504906213173692312433873089699929724737099342419796766203446232840023291331959532793696210975364216391239334523335144586694154085621600720778609235252230594158075012981624461802314677520240095251187180269256901262209347338586092167034713176097253645796231256914744863835302581578398283778387189629763982104548709464957452904366668802279636307886160975071675132447094729128353766166505061275683417715185847733940820879995523765662600901542676738669632499262350596948951238915334169414234793186905674283440987747852335363166951640515514021150292585732113695883588402668475010599900711822109648814486349899654155247352264510267857562331642341766129256092577300216949958109369137408021860764176218544426572739788745002371801474337029534338514553227949827099766621687707890659509539640139417765029155594595143520857907613970228268039745223119540376700535704482127382953607831392678769046861091512358461916472796645587472186579707956192122372919880374035943088025026820680392279718097108066430280921881742641288834376744270191945871826277198201734764936581595801419638167167021427173952488728405948401278501746797947866154748675529163860073815434989342320030061443954660007990314412379598586844180900451729460957436801148244427068151028507454261154381570408939808735516691379703894156761877733526837848005879378058338959103898496412653463419510300897831813661514421318365948667166615819285806863498817267619215752458673003161827440309900449274622986178787878482446027054897232187892043702751135562579934089556126949658403005382054067978829646075429807572623217403954217057076633988455655672331081007814250590115560887019934435483944361635539493038655090653682567267123789398382792546276539626031082086180789505962137607911761211668297528059901833067030338019461963074374556340896114225025490421379966039882893747428301072632502554830818588017836714439922344515631991730414091415067480579749376400385385308899676680889411614057869671089729082397147051687476144542700974159529403682105489913545485895578563067410748634806648321326852197181787360031961611674742365994721363269881901167538214748599591399153208972743831340028018778810633425574651613532918667389682227778291328381104572968195377997567112175941398704106800464552823284847503845682092148874243090858101477715918679672047858588598171054861505320450580193572810545265954753992853685476037196705138478895843541954718387856119961171552121934448478776237129157441059402424479245133110645661107011579356179176081273470264740054315840533308214844018303770613098828146024878523866568274214122221088628685167896953242920515018423116180843500268078254340819031081683624954906269636198300091202913927987636540608602997245504760501869395739727031876737117566081864567544875001757416854879225774368662079628839693538044339783669172537058968261932708243112877894054266001124947462287839018448027972145903976467157688787513794561799118965274572093632969540285288551158780292802424481708772708446592207865984065889878378509722296899549909317928345244126908840738885744976562505561788024762236113020824706335325937637969286335699499487067355415365749710081059357513743411397890254912928528697167219824729109779129542934634828536392810629690555441788960956921933989368152267400177582751198537081062432366131571611711208660241599292396893520115637195694614524859653969294655488000000000000000000000000000000000000000000000000000000000000000000000000000000000000000000000000000000000000000000000000000000000000000000000000000000000000000000000000000000000000000000000000000000000000000000000000000000000000000000000000000000000000000000000000000000000000000000000000000000000000000000000000000000000000000000000000000000000000000000000000000000000000000000000000000000000000000000000000000000000000000000000000000000000000000000000000000000000000000000000000000000000000000000000000000000000000000000000000000000000000000000000000000000000000000000000000000000000000000000000000000000000000000000000000000000000000000000000000000000000000000000000000000000000000000000000000000000000000000000000000000000000000\n",
      "\n"
     ]
    }
   ],
   "source": [
    "#6번\n",
    "def factorial(n):\n",
    "    if n == 1:\n",
    "        return 1\n",
    "    return n * factorial(n-1)\n",
    "print(factorial(2940),end='\\n\\n')"
   ]
  },
  {
   "cell_type": "markdown",
   "metadata": {},
   "source": [
    "n은 1이 아니라면 n*factorial(n-1)을 return합니다 이때 factorial(n-1)을 불러오는 것이 재귀적 구현입니다."
   ]
  },
  {
   "cell_type": "markdown",
   "metadata": {},
   "source": [
    "[8번 문제]\n",
    "이전 Assignment 3의 마지막 문제는 웹 URL로 지정된 웹페이지를 문자열로 가져와 모든 HTML 태그 및 CSS와 Javascript를 제외한 순수 텍스트를 얻어내고 그 안에 존재하는 단어를 추출하여 각 단어들에 대해 출현빈도를 사전형태({'world': 2, 'hello': 1, 'python': 1})로 저장하여 출력하는 것이었다. 이번에는 Assignment 3를 확장하여 다음과 같은 조건을 만족하도록 구현하시오.\n",
    "\n",
    "1) 다음 사이트에서 제시되는 불용어 (Stop words)를 참고하여 이전 숙제에서 구성했던 단어 사전에서 불용어들을 모두 제거하는 코드를 추가하시오.\n",
    "영어 불용어: http://www.lextek.com/manuals/onix/stopwords1.html\n",
    "한글 불용어: https://raw.githubusercontent.com/stopwords-iso/stopwords-ko/master/stopwords-ko.txt\n",
    "\n",
    "2) 각 URL로 지정된 웹페이지의 HTML 소스를 파일로 저장하시오.\n",
    "URL이 http://URL 이라면 파일명은 URL.html 이다.\n",
    "예: URL이 http://www.cnn.com 이라면 파일명은 www.cnn.com.html 이다.\n",
    "3) 단어의 출현빈도가 담긴 사전 객체를 위 HTML 소스 파일과 동일한 폴더에 파일로 저장하시오.\n",
    "파일입출력 (E-learning 13주차) 마지막에 학습한 pickle 모듈을 활용하시오.\n",
    "URL이 http://URL 이라면 사전 객체를 담고 있는 파일명은 URL.words_frequency.pickle 이다.\n",
    "예: URL이 http://www.cnn.com 이라면 파일명은 www.cnn.com.words_frequency.pickle 이다.\n",
    "\n",
    "4) 최소 5개 이상의 웹 사이트 각각에 대한 HTML 소스 파일과 단어 출현빈도 파일을 저장하시오.\n",
    "즉, 5개의 웹 사이트에 대해 총 10개의 파일을 동일한 폴더에 생성하시오.\n",
    "[주의] 가능하면 웹사이트에 단어들이 많고 다루는 주제가 서로 다른 웹 사이트들로 선정하는 것 추천\n",
    "\n",
    "5) 위 문제에서 저장한 모든 pickle 파일들을 객체로 다시 로드하여 본인이 저장하여 분석한 사이트들 각각에 대해서 가장 많이 출현한 단어 3개씩를 뽑아 제시하시오.\n",
    "반드시 pickle 모듈로 저장한 5개 이상의 pickle 파일들을 다시 5개 이상의 사전 객체로 로드 하는 코드가 추가되어야 함\n",
    "\n",
    "6) 간단한 검색엔진 코딩 (Like Google!!!)\n",
    "사용자에게 임의의 검색어 (하나 또는 여러 단어로 구성) 를 입력받으시오.\n",
    "예:\n",
    "대한민국\n",
    "컴퓨터 공학\n",
    "맛있는 음식\n",
    "파이썬을 쉽게 공부하는 법\n",
    "한기대 장점을 알려주세요\n",
    "입력받은 검색어들에 대해서도 1)에서 제시하는 방법처럼 불용어 처리를 하여 정리\n",
    "입력 받은 검색어와 유사도(Similarity)가 높은 웹 사이트 기준으로 위 4)에서 미리 지정해 놓은 5개 이상의 웹 사이트 URL들을 일렬로 나열하여 출력하시오.\n",
    "검색어와 웹 사이트 간의 유사도는 본인이 스스로 정하시오.\n",
    "유사도를 정하는 최소한의 기준은 단어 출현 빈도를 기반으로 해야 하며, 이외의 본인이 생각하는 방안이 있으면 함께 사용해도 됨.\n",
    "유사도가 높은 웹 사이트가 상위에 출력되어야 함 (즉, 유사도 기준 내림 차순)\n",
    "유사도가 동일한 웹 사이트들에 대해서는 임의 배치함.\n",
    "\n",
    "7) [주의] 필수사항\n",
    "위에서 만든 검색엔진 코딩은 매우 간단한 것이라 부족한 점이 많이 존재한다.\n",
    "본인이 생각하기에 상업적인 완성도 높은 검색 로봇/엔진이 되려면 어떤 기능들이 추가적으로 구현되어야 할지 최소 1가지 이상 제시하시오."
   ]
  },
  {
   "cell_type": "markdown",
   "metadata": {},
   "source": [
    "## 1), 2), 3), 4)"
   ]
  },
  {
   "cell_type": "code",
   "execution_count": 15,
   "metadata": {},
   "outputs": [],
   "source": [
    "import requests\n",
    "import string\n",
    "import pickle\n",
    "req = requests.get('http://cse.koreatech.ac.kr')\n",
    "\n",
    "source = req.text\n",
    "a=''\n",
    "i=0\n",
    "dic = {}\n",
    "while(i<len(source)):\n",
    "    if(source[i]=='<'):\n",
    "        if(source[i:i+8]=='<script>'):\n",
    "            while(source[i:i+9]!='</script>'):\n",
    "                i=i+1\n",
    "            if(source[i:i+9]=='</script>'):\n",
    "                i=i+9\n",
    "        elif(source[i:i+7]=='<style>'):\n",
    "            while(source[i:i+8]!='</sytle>'):\n",
    "                i=i+1\n",
    "            if(source[i:i+8]=='</style>'):\n",
    "                i=i+8\n",
    "        else:\n",
    "            while(source[i] != '>'):\n",
    "                i=i+1\n",
    "\n",
    "        a=a+' '\n",
    "        i=i+1\n",
    "    else:\n",
    "        a=a+source[i]\n",
    "        i=i+1\n",
    "b=a.split()\n",
    "stopword = []\n",
    "with open('english.txt','r') as f:# 영어 불용어 입니다\n",
    "       for line in f:\n",
    "            if line != '\\n':\n",
    "                stopword.append(line.rstrip('\\n'))\n",
    "with open('korean.txt','r',encoding='utf-8') as f:# 한국어 불용어입니다\n",
    "       for line in f:\n",
    "            stopword.append(line.rstrip('\\n'))\n",
    "d = []\n",
    "for j in range(len(b)):\n",
    "    for stop in stopword:#불용어를 제거합니다\n",
    "        b[j] = b[j].replace(stop, '')\n",
    "    for p in string.punctuation:#구두 문자를 제거합니다\n",
    "        b[j] = b[j].replace(p, '')\n",
    "    if(b[j]!=''):\n",
    "        d.append(b[j])\n",
    "for i in  d:\n",
    "    if i in dic:\n",
    "        dic[i] +=1\n",
    "    else:\n",
    "        dic[i]=1\n",
    "\n",
    "with open('cse.koreatech.ac.kr.txt','w') as f:#사이트에 관해 txt url을 만들어줍니다\n",
    "    f.write('http://cse.koreatech.ac.kr')\n",
    "with open('cse.koreatech.ac.kr_frequency.pickle', 'wb') as f:#출연 빈도에 관해 pickle을 만들어줍니다\n",
    "    pickle.dump(dic,f)#출연 빈도를 넣어 생성합니다."
   ]
  },
  {
   "cell_type": "code",
   "execution_count": 14,
   "metadata": {},
   "outputs": [],
   "source": [
    "req = requests.get('http://link.koreatech.ac.kr')\n",
    "\n",
    "source = req.text\n",
    "a=''\n",
    "i=0\n",
    "dic = {}\n",
    "while(i<len(source)):\n",
    "    if(source[i]=='<'):\n",
    "        if(source[i:i+8]=='<script>'):\n",
    "            while(source[i:i+9]!='</script>'):\n",
    "                i=i+1\n",
    "            if(source[i:i+9]=='</script>'):\n",
    "                i=i+9\n",
    "        elif(source[i:i+7]=='<style>'):\n",
    "            while(source[i:i+8]!='</sytle>'):\n",
    "                i=i+1\n",
    "            if(source[i:i+8]=='</style>'):\n",
    "                i=i+8\n",
    "        else:\n",
    "            while(source[i] != '>'):\n",
    "                i=i+1\n",
    "\n",
    "        a=a+' '\n",
    "        i=i+1\n",
    "    else:\n",
    "        a=a+source[i]\n",
    "        i=i+1\n",
    "b=a.split()\n",
    "stopword = []\n",
    "with open('english.txt','r') as f:# 영어 불용어 입니다\n",
    "       for line in f:\n",
    "            if line != '\\n':\n",
    "                stopword.append(line.rstrip('\\n'))\n",
    "with open('korean.txt','r',encoding='utf-8') as f:# 한국어 불용어입니다\n",
    "       for line in f:\n",
    "            stopword.append(line.rstrip('\\n'))\n",
    "d = []\n",
    "for j in range(len(b)):\n",
    "    for stop in stopword:#불용어를 제거합니다\n",
    "        b[j] = b[j].replace(stop, '')\n",
    "    for p in string.punctuation:#구두 문자를 제거합니다\n",
    "        b[j] = b[j].replace(p, '')\n",
    "    if(b[j]!=''):\n",
    "        d.append(b[j])\n",
    "for i in  d:\n",
    "    if i in dic:\n",
    "        dic[i] +=1\n",
    "    else:\n",
    "        dic[i]=1\n",
    "\n",
    "\n",
    "with open('link.koreatech.ac.kr.txt','w') as f:#사이트에 관해 txt url을 만들어줍니다\n",
    "    f.write('http://link.koreatech.ac.kr')\n",
    "with open('link.koreatech.ac.kr_frequency.pickle', 'wb') as f:#출연 빈도에 관해 pickle을 만들어줍니다\n",
    "    pickle.dump(dic,f)#출연 빈도를 넣어 생성합니다."
   ]
  },
  {
   "cell_type": "code",
   "execution_count": 13,
   "metadata": {},
   "outputs": [],
   "source": [
    "req = requests.get('http://www.daum.net')\n",
    "\n",
    "source = req.text\n",
    "a=''\n",
    "i=0\n",
    "dic = {}\n",
    "while(i<len(source)):\n",
    "    if(source[i]=='<'):\n",
    "        if(source[i:i+8]=='<script>'):\n",
    "            while(source[i:i+9]!='</script>'):\n",
    "                i=i+1\n",
    "            if(source[i:i+9]=='</script>'):\n",
    "                i=i+9\n",
    "        elif(source[i:i+7]=='<style>'):\n",
    "            while(source[i:i+8]!='</sytle>'):\n",
    "                i=i+1\n",
    "            if(source[i:i+8]=='</style>'):\n",
    "                i=i+8\n",
    "        else:\n",
    "            while(source[i] != '>'):\n",
    "                i=i+1\n",
    "\n",
    "        a=a+' '\n",
    "        i=i+1\n",
    "    else:\n",
    "        a=a+source[i]\n",
    "        i=i+1\n",
    "b=a.split()\n",
    "stopword = []\n",
    "with open('english.txt','r') as f:# 영어 불용어 입니다\n",
    "       for line in f:\n",
    "            if line != '\\n':\n",
    "                stopword.append(line.rstrip('\\n'))\n",
    "with open('korean.txt','r',encoding='utf-8') as f:# 한국어 불용어입니다\n",
    "       for line in f:\n",
    "            stopword.append(line.rstrip('\\n'))\n",
    "d = []\n",
    "for j in range(len(b)):\n",
    "    for stop in stopword:#불용어를 제거합니다\n",
    "        b[j] = b[j].replace(stop, '')\n",
    "    for p in string.punctuation:#구두 문자를 제거합니다\n",
    "        b[j] = b[j].replace(p, '')\n",
    "    if(b[j]!=''):\n",
    "        d.append(b[j])\n",
    "for i in  d:\n",
    "    if i in dic:\n",
    "        dic[i] +=1\n",
    "    else:\n",
    "        dic[i]=1\n",
    "\n",
    "\n",
    "with open('www.daum.net.txt','w') as f:#사이트에 관해 txt url을 만들어줍니다\n",
    "    f.write('http://www.daum.net')\n",
    "with open('www.daum.net_frequency.pickle', 'wb') as f:#출연 빈도에 관해 pickle을 만들어줍니다\n",
    "    pickle.dump(dic,f)#출연 빈도를 넣어 생성합니다."
   ]
  },
  {
   "cell_type": "code",
   "execution_count": 16,
   "metadata": {},
   "outputs": [],
   "source": [
    "req = requests.get('https://www.kakaocorp.com')\n",
    "\n",
    "source = req.text\n",
    "a=''\n",
    "i=0\n",
    "dic = {}\n",
    "while(i<len(source)):\n",
    "    if(source[i]=='<'):\n",
    "        if(source[i:i+8]=='<script>'):\n",
    "            while(source[i:i+9]!='</script>'):\n",
    "                i=i+1\n",
    "            if(source[i:i+9]=='</script>'):\n",
    "                i=i+9\n",
    "        elif(source[i:i+7]=='<style>'):\n",
    "            while(source[i:i+8]!='</sytle>'):\n",
    "                i=i+1\n",
    "            if(source[i:i+8]=='</style>'):\n",
    "                i=i+8\n",
    "        else:\n",
    "            while(source[i] != '>'):\n",
    "                i=i+1\n",
    "\n",
    "        a=a+' '\n",
    "        i=i+1\n",
    "    else:\n",
    "        a=a+source[i]\n",
    "        i=i+1\n",
    "b=a.split()\n",
    "stopword = []\n",
    "with open('english.txt','r') as f:# 영어 불용어 입니다\n",
    "       for line in f:\n",
    "            if line != '\\n':\n",
    "                stopword.append(line.rstrip('\\n'))\n",
    "with open('korean.txt','r',encoding='utf-8') as f:# 한국어 불용어입니다\n",
    "       for line in f:\n",
    "            stopword.append(line.rstrip('\\n'))\n",
    "d = []\n",
    "for j in range(len(b)):\n",
    "    for stop in stopword:#불용어를 제거합니다\n",
    "        b[j] = b[j].replace(stop, '')\n",
    "    for p in string.punctuation:#구두 문자를 제거합니다\n",
    "        b[j] = b[j].replace(p, '')\n",
    "    if(b[j]!=''):\n",
    "        d.append(b[j])\n",
    "for i in  d:\n",
    "    if i in dic:\n",
    "        dic[i] +=1\n",
    "    else:\n",
    "        dic[i]=1\n",
    "with open('www.kakaocorp.com.txt','w') as f:#사이트에 관해 txt url을 만들어줍니다\n",
    "    f.write('https://www.kakaocorp.com')\n",
    "with open('www.kakaocorp.com_frequency.pickle', 'wb') as f:#출연 빈도에 관해 pickle을 만들어줍니다\n",
    "    pickle.dump(dic,f)#출연 빈도를 넣어 생성합니다."
   ]
  },
  {
   "cell_type": "code",
   "execution_count": 17,
   "metadata": {},
   "outputs": [],
   "source": [
    "req = requests.get('http://www.gmarket.co.kr')\n",
    "\n",
    "source = req.text\n",
    "a=''\n",
    "i=0\n",
    "dic = {}\n",
    "while(i<len(source)):\n",
    "    if(source[i]=='<'):\n",
    "        if(source[i:i+8]=='<script>'):\n",
    "            while(source[i:i+9]!='</script>'):\n",
    "                i=i+1\n",
    "            if(source[i:i+9]=='</script>'):\n",
    "                i=i+9\n",
    "        elif(source[i:i+7]=='<style>'):\n",
    "            while(source[i:i+8]!='</sytle>'):\n",
    "                i=i+1\n",
    "            if(source[i:i+8]=='</style>'):\n",
    "                i=i+8\n",
    "        else:\n",
    "            while(source[i] != '>'):\n",
    "                i=i+1\n",
    "\n",
    "        a=a+' '\n",
    "        i=i+1\n",
    "    else:\n",
    "        a=a+source[i]\n",
    "        i=i+1\n",
    "b=a.split()\n",
    "stopword = []\n",
    "with open('english.txt','r') as f:# 영어 불용어 입니다\n",
    "       for line in f:\n",
    "            if line != '\\n':\n",
    "                stopword.append(line.rstrip('\\n'))\n",
    "with open('korean.txt','r',encoding='utf-8') as f:# 한국어 불용어입니다\n",
    "       for line in f:\n",
    "            stopword.append(line.rstrip('\\n'))\n",
    "d = []\n",
    "for j in range(len(b)):\n",
    "    for stop in stopword:#불용어를 제거합니다\n",
    "        b[j] = b[j].replace(stop, '')\n",
    "    for p in string.punctuation:#구두 문자를 제거합니다\n",
    "        b[j] = b[j].replace(p, '')\n",
    "    if(b[j]!=''):\n",
    "        d.append(b[j])\n",
    "for i in  d:\n",
    "    if i in dic:\n",
    "        dic[i] +=1\n",
    "    else:\n",
    "        dic[i]=1\n",
    "\n",
    "with open('www.gmarket.co.kr','w') as f:#사이트에 관해 txt url을 만들어줍니다\n",
    "    f.write('http://www.gmarket.co.kr')\n",
    "with open('www.gmarket.co.kr_frequency.pickle', 'wb') as f:#출연 빈도에 관해 pickle을 만들어줍니다\n",
    "    pickle.dump(dic,f)#출연 빈도를 넣어 생성합니다."
   ]
  },
  {
   "cell_type": "markdown",
   "metadata": {},
   "source": [
    "##### 코드설명 주석 은 아래 코드에있습니다\n",
    "#### 5)"
   ]
  },
  {
   "cell_type": "code",
   "execution_count": 31,
   "metadata": {},
   "outputs": [
    {
     "name": "stdout",
     "output_type": "stream",
     "text": [
      "www.kakaocorp.com_frequency.pickle 에서 가장 많이 나온 단어 3개\n",
      "카카 22\n",
      "D 14\n",
      "C 14\n"
     ]
    }
   ],
   "source": [
    "# 5)\n",
    "with open ('www.kakaocorp.com_frequency.pickle', 'rb') as f2:#파일을 엽니다\n",
    "    data=list(pickle.load(f2).items())#list로 변환하여 받습니다\n",
    "    data.sort(key= lambda k :k[1], reverse=True)#value값 기준으로 정렬을 하려면 lambda를 사용해야합니다\n",
    "    print('www.kakaocorp.com_frequency.pickle 에서 가장 많이 나온 단어 3개')\n",
    "    for i in range(3):\n",
    "        print(data[i][0] , data[i][1])#단어와 빈도를 출력합니다"
   ]
  },
  {
   "cell_type": "code",
   "execution_count": 26,
   "metadata": {},
   "outputs": [
    {
     "name": "stdout",
     "output_type": "stream",
     "text": [
      "www.daum.net_frequency.pickle 에서 가장 많이 나온 단어 3개\n",
      "B 22\n",
      "위 14\n",
      "Y 14\n"
     ]
    }
   ],
   "source": [
    "with open ('www.daum.net_frequency.pickle', 'rb') as f2:\n",
    "    data2=list(pickle.load(f2).items())\n",
    "    data2.sort(key= lambda k :k[1], reverse=True)\n",
    "    print('www.daum.net_frequency.pickle 에서 가장 많이 나온 단어 3개')\n",
    "    for i in range(3):\n",
    "        print(data2[i][0] , data[i][1])"
   ]
  },
  {
   "cell_type": "code",
   "execution_count": 27,
   "metadata": {},
   "outputs": [
    {
     "name": "stdout",
     "output_type": "stream",
     "text": [
      "link.koreatech.ac.kr_frequency.pickle 에서 가장 많이 나온 단어 3개\n",
      "D 22\n",
      "I 14\n",
      "N 14\n"
     ]
    }
   ],
   "source": [
    "with open ('link.koreatech.ac.kr_frequency.pickle', 'rb') as f2:\n",
    "    data3=list(pickle.load(f2).items())\n",
    "    data3.sort(key= lambda k :k[1], reverse=True)\n",
    "    print('link.koreatech.ac.kr_frequency.pickle 에서 가장 많이 나온 단어 3개')\n",
    "    for i in range(3):\n",
    "        print(data3[i][0] , data[i][1])"
   ]
  },
  {
   "cell_type": "code",
   "execution_count": 28,
   "metadata": {},
   "outputs": [
    {
     "name": "stdout",
     "output_type": "stream",
     "text": [
      "cse.koreatech.ac.kr_frequency.pickle 에서 가장 많이 나온 단어 3개\n",
      "컴퓨터공학부 22\n",
      "C 14\n",
      "한국기술교대학교 14\n"
     ]
    }
   ],
   "source": [
    "with open ('cse.koreatech.ac.kr_frequency.pickle', 'rb') as f2:\n",
    "    data4=list(pickle.load(f2).items())\n",
    "    data4.sort(key= lambda k :k[1], reverse=True)\n",
    "    print('cse.koreatech.ac.kr_frequency.pickle 에서 가장 많이 나온 단어 3개')\n",
    "    for i in range(3):\n",
    "        print(data4[i][0] , data[i][1])"
   ]
  },
  {
   "cell_type": "code",
   "execution_count": 29,
   "metadata": {},
   "outputs": [
    {
     "name": "stdout",
     "output_type": "stream",
     "text": [
      "www.gmarket.co.kr_frequency.pickle 에서 가장 많이 나온 단어 3개\n",
      "광고배 22\n",
      "닫기 14\n",
      "광고 14\n"
     ]
    }
   ],
   "source": [
    "with open ('www.gmarket.co.kr_frequency.pickle', 'rb') as f2:\n",
    "    data5=list(pickle.load(f2).items())\n",
    "    data5.sort(key= lambda k :k[1], reverse=True)\n",
    "    print('www.gmarket.co.kr_frequency.pickle 에서 가장 많이 나온 단어 3개')\n",
    "    for i in range(3):\n",
    "        print(data5[i][0] , data[i][1])"
   ]
  },
  {
   "cell_type": "markdown",
   "metadata": {},
   "source": [
    "### 6)"
   ]
  },
  {
   "cell_type": "code",
   "execution_count": 30,
   "metadata": {},
   "outputs": [
    {
     "name": "stdout",
     "output_type": "stream",
     "text": [
      "컴퓨터\n",
      "www.kakaocorp.com에서의 단어 유사도는 0 \n",
      "www.gmarket.co.kr에서의 단어 유사도는 2 \n",
      "cse.koreatech.ac.kr에서의 단어 유사도는 2 \n",
      "link.koreatech.ac.kr에서의 단어 유사도는 0 \n",
      "www.daum.net에서의 단어 유사도는 0 \n"
     ]
    }
   ],
   "source": [
    "#유사도 테스트\n",
    "a = input()\n",
    "b=a.split()\n",
    "count1 = 0\n",
    "count2 = 0\n",
    "count3 = 0\n",
    "count4 = 0\n",
    "count5 = 0\n",
    "for x in b:\n",
    "    with open ('www.kakaocorp.com_frequency.pickle', 'rb') as f2:\n",
    "        data1=list(pickle.load(f2).keys())\n",
    "    for i in range(len(data1)):\n",
    "        if x in data1[i]:\n",
    "            count1=count1+1\n",
    "    with open ('www.gmarket.co.kr_frequency.pickle', 'rb') as f2:\n",
    "        data2=list(pickle.load(f2).keys())\n",
    "    for i in range(len(data2)):\n",
    "        if x in data2[i]:\n",
    "            count2=count2+1\n",
    "    with open ('cse.koreatech.ac.kr_frequency.pickle', 'rb') as f2:\n",
    "        data3=list(pickle.load(f2).keys())\n",
    "    for i in range(len(data3)):\n",
    "        if x in data3[i]:\n",
    "            count3=count3+1\n",
    "    with open ('link.koreatech.ac.kr_frequency.pickle', 'rb') as f2:\n",
    "        data4=list(pickle.load(f2).keys())\n",
    "    for i in range(len(data4)):\n",
    "        if x in data4[i]:\n",
    "            count4=count4+1\n",
    "    with open ('www.daum.net_frequency.pickle', 'rb') as f2:\n",
    "        data5=list(pickle.load(f2).keys())\n",
    "    for i in range(len(data5)):\n",
    "        if x in data5[i]:\n",
    "            count5=count5+1\n",
    "print('www.kakaocorp.com에서의 단어 유사도는 {} '.format(count1))\n",
    "print('www.gmarket.co.kr에서의 단어 유사도는 {} '.format(count2))\n",
    "print('cse.koreatech.ac.kr에서의 단어 유사도는 {} '.format(count3))\n",
    "print('link.koreatech.ac.kr에서의 단어 유사도는 {} '.format(count4))\n",
    "print('www.daum.net에서의 단어 유사도는 {} '.format(count5))"
   ]
  },
  {
   "cell_type": "markdown",
   "metadata": {},
   "source": [
    "저는 유사도를 단어의 개수가 몇개 나왔는지로 생각하고 하였습니다. 비율로 표시하기에는 너무 적다고 생각되어 단어의 개수로 판단하는 것이 적절하다고 생각했습니다"
   ]
  },
  {
   "cell_type": "markdown",
   "metadata": {},
   "source": [
    "### 7)\n",
    "기능적 개선사항: 많은 부분이 개선되어야 할 필요가 있지만 일단 단어의 유사도를 판별하는 부분이 큰 문제라고 생각한다. 컴퓨터와 비슷한 단어는 넘치도록 많지만 코드상으로는 그런것을 분류할 수 없다. 이를 분류해낼 수 있다면 더 좋은 검색엔진이 될것이다.\n",
    "\n",
    "또한 매우 느리다는 단점이있다. naver.com을 해보려 했지만 너무 많은 시간이 걸려 다른 사이트로 하였다. 좀더 효율적인 알고리즘을 짜야 모든 사이트에서 적용될 수 있을것이다."
   ]
  },
  {
   "cell_type": "markdown",
   "metadata": {},
   "source": [
    "### 숙제소감\n",
    "8번과제를 거치며 많은 어려움이 있었으나 재미있는 경험이었다고 생각합니다. 2번을 마지막구현하지 못한게 아쉬웠습니다. 이번 제출이 끝나도 혼자서 해볼것 입니다."
   ]
  }
 ],
 "metadata": {
  "kernelspec": {
   "display_name": "Python 3",
   "language": "python",
   "name": "python3"
  },
  "language_info": {
   "codemirror_mode": {
    "name": "ipython",
    "version": 3
   },
   "file_extension": ".py",
   "mimetype": "text/x-python",
   "name": "python",
   "nbconvert_exporter": "python",
   "pygments_lexer": "ipython3",
   "version": "3.6.5"
  }
 },
 "nbformat": 4,
 "nbformat_minor": 2
}
